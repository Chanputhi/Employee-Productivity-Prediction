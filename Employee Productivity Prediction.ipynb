{
 "cells": [
  {
   "cell_type": "markdown",
   "id": "e8ebe7ee",
   "metadata": {},
   "source": [
    "### 0.) Import necessary modules and libraries"
   ]
  },
  {
   "cell_type": "code",
   "execution_count": 1,
   "id": "b5cda774",
   "metadata": {},
   "outputs": [],
   "source": [
    "import numpy as np\n",
    "import pandas as pd\n",
    "import matplotlib.pyplot as plt\n",
    "import sklearn\n",
    "from sklearn.preprocessing import LabelEncoder\n",
    "from sklearn.model_selection import train_test_split, GridSearchCV\n",
    "from sklearn.linear_model import LinearRegression\n",
    "from sklearn.svm import SVR\n",
    "from sklearn.tree import DecisionTreeRegressor\n",
    "from sklearn.metrics import mean_squared_error, mean_absolute_error, r2_score, explained_variance_score\n",
    "\n",
    "import warnings\n",
    "warnings.filterwarnings(\"ignore\")"
   ]
  },
  {
   "cell_type": "markdown",
   "id": "d119ff0a",
   "metadata": {},
   "source": [
    "### 1.)  Load and explore dataset, do necessary pre-processing and split the dataset into training set and test set with an appropriate ratio. Explain the steps that you have taken (e.g. show dataset size, dealing with missing values, feature exploration and representation, label distribution, split dataset etc)."
   ]
  },
  {
   "cell_type": "code",
   "execution_count": 2,
   "id": "e07b06c9",
   "metadata": {},
   "outputs": [
    {
     "data": {
      "text/html": [
       "<div>\n",
       "<style scoped>\n",
       "    .dataframe tbody tr th:only-of-type {\n",
       "        vertical-align: middle;\n",
       "    }\n",
       "\n",
       "    .dataframe tbody tr th {\n",
       "        vertical-align: top;\n",
       "    }\n",
       "\n",
       "    .dataframe thead th {\n",
       "        text-align: right;\n",
       "    }\n",
       "</style>\n",
       "<table border=\"1\" class=\"dataframe\">\n",
       "  <thead>\n",
       "    <tr style=\"text-align: right;\">\n",
       "      <th></th>\n",
       "      <th>date</th>\n",
       "      <th>quarter</th>\n",
       "      <th>department</th>\n",
       "      <th>day</th>\n",
       "      <th>team</th>\n",
       "      <th>targeted_productivity</th>\n",
       "      <th>smv</th>\n",
       "      <th>wip</th>\n",
       "      <th>over_time</th>\n",
       "      <th>incentive</th>\n",
       "      <th>idle_time</th>\n",
       "      <th>idle_men</th>\n",
       "      <th>no_of_style_change</th>\n",
       "      <th>no_of_workers</th>\n",
       "      <th>actual_productivity</th>\n",
       "    </tr>\n",
       "  </thead>\n",
       "  <tbody>\n",
       "    <tr>\n",
       "      <th>0</th>\n",
       "      <td>1/1/2015</td>\n",
       "      <td>Quarter1</td>\n",
       "      <td>sweing</td>\n",
       "      <td>Thursday</td>\n",
       "      <td>8</td>\n",
       "      <td>0.80</td>\n",
       "      <td>26.16</td>\n",
       "      <td>1108.0</td>\n",
       "      <td>7080</td>\n",
       "      <td>98</td>\n",
       "      <td>0.0</td>\n",
       "      <td>0</td>\n",
       "      <td>0</td>\n",
       "      <td>59.0</td>\n",
       "      <td>0.940725</td>\n",
       "    </tr>\n",
       "    <tr>\n",
       "      <th>1</th>\n",
       "      <td>1/1/2015</td>\n",
       "      <td>Quarter1</td>\n",
       "      <td>finishing</td>\n",
       "      <td>Thursday</td>\n",
       "      <td>1</td>\n",
       "      <td>0.75</td>\n",
       "      <td>3.94</td>\n",
       "      <td>NaN</td>\n",
       "      <td>960</td>\n",
       "      <td>0</td>\n",
       "      <td>0.0</td>\n",
       "      <td>0</td>\n",
       "      <td>0</td>\n",
       "      <td>8.0</td>\n",
       "      <td>0.886500</td>\n",
       "    </tr>\n",
       "    <tr>\n",
       "      <th>2</th>\n",
       "      <td>1/1/2015</td>\n",
       "      <td>Quarter1</td>\n",
       "      <td>sweing</td>\n",
       "      <td>Thursday</td>\n",
       "      <td>11</td>\n",
       "      <td>0.80</td>\n",
       "      <td>11.41</td>\n",
       "      <td>968.0</td>\n",
       "      <td>3660</td>\n",
       "      <td>50</td>\n",
       "      <td>0.0</td>\n",
       "      <td>0</td>\n",
       "      <td>0</td>\n",
       "      <td>30.5</td>\n",
       "      <td>0.800570</td>\n",
       "    </tr>\n",
       "    <tr>\n",
       "      <th>3</th>\n",
       "      <td>1/1/2015</td>\n",
       "      <td>Quarter1</td>\n",
       "      <td>sweing</td>\n",
       "      <td>Thursday</td>\n",
       "      <td>12</td>\n",
       "      <td>0.80</td>\n",
       "      <td>11.41</td>\n",
       "      <td>968.0</td>\n",
       "      <td>3660</td>\n",
       "      <td>50</td>\n",
       "      <td>0.0</td>\n",
       "      <td>0</td>\n",
       "      <td>0</td>\n",
       "      <td>30.5</td>\n",
       "      <td>0.800570</td>\n",
       "    </tr>\n",
       "    <tr>\n",
       "      <th>4</th>\n",
       "      <td>1/1/2015</td>\n",
       "      <td>Quarter1</td>\n",
       "      <td>sweing</td>\n",
       "      <td>Thursday</td>\n",
       "      <td>6</td>\n",
       "      <td>0.80</td>\n",
       "      <td>25.90</td>\n",
       "      <td>1170.0</td>\n",
       "      <td>1920</td>\n",
       "      <td>50</td>\n",
       "      <td>0.0</td>\n",
       "      <td>0</td>\n",
       "      <td>0</td>\n",
       "      <td>56.0</td>\n",
       "      <td>0.800382</td>\n",
       "    </tr>\n",
       "  </tbody>\n",
       "</table>\n",
       "</div>"
      ],
      "text/plain": [
       "       date   quarter  department       day  team  targeted_productivity  \\\n",
       "0  1/1/2015  Quarter1      sweing  Thursday     8                   0.80   \n",
       "1  1/1/2015  Quarter1  finishing   Thursday     1                   0.75   \n",
       "2  1/1/2015  Quarter1      sweing  Thursday    11                   0.80   \n",
       "3  1/1/2015  Quarter1      sweing  Thursday    12                   0.80   \n",
       "4  1/1/2015  Quarter1      sweing  Thursday     6                   0.80   \n",
       "\n",
       "     smv     wip  over_time  incentive  idle_time  idle_men  \\\n",
       "0  26.16  1108.0       7080         98        0.0         0   \n",
       "1   3.94     NaN        960          0        0.0         0   \n",
       "2  11.41   968.0       3660         50        0.0         0   \n",
       "3  11.41   968.0       3660         50        0.0         0   \n",
       "4  25.90  1170.0       1920         50        0.0         0   \n",
       "\n",
       "   no_of_style_change  no_of_workers  actual_productivity  \n",
       "0                   0           59.0             0.940725  \n",
       "1                   0            8.0             0.886500  \n",
       "2                   0           30.5             0.800570  \n",
       "3                   0           30.5             0.800570  \n",
       "4                   0           56.0             0.800382  "
      ]
     },
     "execution_count": 2,
     "metadata": {},
     "output_type": "execute_result"
    }
   ],
   "source": [
    "# Load datasets\n",
    "df = pd.read_csv(\"garments_worker_productivity.csv\")\n",
    "df.head()"
   ]
  },
  {
   "cell_type": "code",
   "execution_count": 3,
   "id": "3b32cacb",
   "metadata": {},
   "outputs": [
    {
     "data": {
      "text/plain": [
       "(1197, 15)"
      ]
     },
     "execution_count": 3,
     "metadata": {},
     "output_type": "execute_result"
    }
   ],
   "source": [
    "# Show dataset size\n",
    "df.shape"
   ]
  },
  {
   "cell_type": "code",
   "execution_count": 4,
   "id": "f98bef3a",
   "metadata": {},
   "outputs": [
    {
     "name": "stdout",
     "output_type": "stream",
     "text": [
      "<class 'pandas.core.frame.DataFrame'>\n",
      "RangeIndex: 1197 entries, 0 to 1196\n",
      "Data columns (total 15 columns):\n",
      " #   Column                 Non-Null Count  Dtype  \n",
      "---  ------                 --------------  -----  \n",
      " 0   date                   1197 non-null   object \n",
      " 1   quarter                1197 non-null   object \n",
      " 2   department             1197 non-null   object \n",
      " 3   day                    1197 non-null   object \n",
      " 4   team                   1197 non-null   int64  \n",
      " 5   targeted_productivity  1197 non-null   float64\n",
      " 6   smv                    1197 non-null   float64\n",
      " 7   wip                    691 non-null    float64\n",
      " 8   over_time              1197 non-null   int64  \n",
      " 9   incentive              1197 non-null   int64  \n",
      " 10  idle_time              1197 non-null   float64\n",
      " 11  idle_men               1197 non-null   int64  \n",
      " 12  no_of_style_change     1197 non-null   int64  \n",
      " 13  no_of_workers          1197 non-null   float64\n",
      " 14  actual_productivity    1197 non-null   float64\n",
      "dtypes: float64(6), int64(5), object(4)\n",
      "memory usage: 140.4+ KB\n"
     ]
    }
   ],
   "source": [
    "# Show Info\n",
    "df.info()"
   ]
  },
  {
   "cell_type": "code",
   "execution_count": 5,
   "id": "ea14a91c",
   "metadata": {},
   "outputs": [
    {
     "data": {
      "text/plain": [
       "date                       0\n",
       "quarter                    0\n",
       "department                 0\n",
       "day                        0\n",
       "team                       0\n",
       "targeted_productivity      0\n",
       "smv                        0\n",
       "wip                      506\n",
       "over_time                  0\n",
       "incentive                  0\n",
       "idle_time                  0\n",
       "idle_men                   0\n",
       "no_of_style_change         0\n",
       "no_of_workers              0\n",
       "actual_productivity        0\n",
       "dtype: int64"
      ]
     },
     "execution_count": 5,
     "metadata": {},
     "output_type": "execute_result"
    }
   ],
   "source": [
    "# Show missing values\n",
    "df.isna().sum()"
   ]
  },
  {
   "cell_type": "code",
   "execution_count": 6,
   "id": "115d0d1f",
   "metadata": {},
   "outputs": [
    {
     "data": {
      "text/plain": [
       "0       1108.0\n",
       "1          NaN\n",
       "2        968.0\n",
       "3        968.0\n",
       "4       1170.0\n",
       "         ...  \n",
       "1192       NaN\n",
       "1193       NaN\n",
       "1194       NaN\n",
       "1195       NaN\n",
       "1196       NaN\n",
       "Name: wip, Length: 1197, dtype: float64"
      ]
     },
     "execution_count": 6,
     "metadata": {},
     "output_type": "execute_result"
    }
   ],
   "source": [
    "# The missing value\n",
    "df['wip']"
   ]
  },
  {
   "cell_type": "code",
   "execution_count": 7,
   "id": "3d335e0d",
   "metadata": {},
   "outputs": [
    {
     "data": {
      "text/plain": [
       "1190.4659913169319"
      ]
     },
     "execution_count": 7,
     "metadata": {},
     "output_type": "execute_result"
    }
   ],
   "source": [
    "# Show the mean of 'wip'\n",
    "wip_mean = df['wip'].mean()\n",
    "wip_mean"
   ]
  },
  {
   "cell_type": "code",
   "execution_count": 8,
   "id": "b16ce744",
   "metadata": {},
   "outputs": [
    {
     "data": {
      "text/plain": [
       "1039.0"
      ]
     },
     "execution_count": 8,
     "metadata": {},
     "output_type": "execute_result"
    }
   ],
   "source": [
    "# Show the median of 'wip'\n",
    "wip_median = df['wip'].median()\n",
    "wip_median"
   ]
  },
  {
   "cell_type": "code",
   "execution_count": 9,
   "id": "ddf98def",
   "metadata": {},
   "outputs": [
    {
     "name": "stdout",
     "output_type": "stream",
     "text": [
      "Minimum of wip: 7.0\n",
      "Maximum of wip: 23122.0\n"
     ]
    }
   ],
   "source": [
    "# Show the minimum and maximum value of 'wip'\n",
    "print(\"Minimum of wip:\", df['wip'].min())\n",
    "print(\"Maximum of wip:\", df['wip'].max())"
   ]
  },
  {
   "cell_type": "code",
   "execution_count": 10,
   "id": "e98d70db",
   "metadata": {},
   "outputs": [
    {
     "data": {
      "image/png": "[encoded data removed]",
      "text/plain": [
       "<Figure size 640x480 with 1 Axes>"
      ]
     },
     "metadata": {},
     "output_type": "display_data"
    }
   ],
   "source": [
    "# Plotting data to choose between mean and median for wip\n",
    "\n",
    "plt.title(\"Histogram for WIP\")\n",
    "plt.xlabel(\"WIP Values\")\n",
    "plt.ylabel(\"Number of WIP\")\n",
    "\n",
    "# Bins value between 5000 to 25000\n",
    "bins = [5000, 10000, 15000, 20000, 25000]\n",
    "\n",
    "# Create Histogram\n",
    "plt.hist(df['wip'], bins=bins)\n",
    "\n",
    "# Show Graph\n",
    "plt.show()"
   ]
  },
  {
   "cell_type": "code",
   "execution_count": 11,
   "id": "cc4d2986",
   "metadata": {},
   "outputs": [],
   "source": [
    "# As our minimum value is 7, we will plot from 0 till its maximum"
   ]
  },
  {
   "cell_type": "code",
   "execution_count": 12,
   "id": "abd10cec",
   "metadata": {},
   "outputs": [
    {
     "data": {
      "image/png": "[encoded data removed]",
      "text/plain": [
       "<Figure size 640x480 with 1 Axes>"
      ]
     },
     "metadata": {},
     "output_type": "display_data"
    }
   ],
   "source": [
    "# Plotting data to choose between mean and median for wip\n",
    "\n",
    "plt.title(\"Histogram for WIP\")\n",
    "plt.xlabel(\"WIP Values\")\n",
    "plt.ylabel(\"Number of WIP\")\n",
    "\n",
    "# Bins values between 0 to 25000\n",
    "bins = [0, 5000, 10000, 15000, 20000, 25000]\n",
    "\n",
    "# Create Histogram\n",
    "plt.hist(df['wip'], bins=bins)\n",
    "\n",
    "# Show Graph\n",
    "plt.show()"
   ]
  },
  {
   "cell_type": "code",
   "execution_count": 13,
   "id": "4eec6963",
   "metadata": {},
   "outputs": [],
   "source": [
    "# Based on the histrogram above, the wip value are mainly between 0 and\n",
    "# 5000, therefore this wip is the right-skewed histogram\n",
    "# Thus, we will use median for this wip feature"
   ]
  },
  {
   "cell_type": "code",
   "execution_count": 14,
   "id": "b3082ce3",
   "metadata": {},
   "outputs": [
    {
     "data": {
      "text/plain": [
       "0       1108.0\n",
       "1       1039.0\n",
       "2        968.0\n",
       "3        968.0\n",
       "4       1170.0\n",
       "         ...  \n",
       "1192    1039.0\n",
       "1193    1039.0\n",
       "1194    1039.0\n",
       "1195    1039.0\n",
       "1196    1039.0\n",
       "Name: wip, Length: 1197, dtype: float64"
      ]
     },
     "execution_count": 14,
     "metadata": {},
     "output_type": "execute_result"
    }
   ],
   "source": [
    "# Fill the missing values with median of wip\n",
    "df['wip'].fillna(wip_median, inplace=True)\n",
    "df['wip']"
   ]
  },
  {
   "cell_type": "code",
   "execution_count": 15,
   "id": "9e89d8b6",
   "metadata": {},
   "outputs": [
    {
     "data": {
      "text/plain": [
       "date                     0\n",
       "quarter                  0\n",
       "department               0\n",
       "day                      0\n",
       "team                     0\n",
       "targeted_productivity    0\n",
       "smv                      0\n",
       "wip                      0\n",
       "over_time                0\n",
       "incentive                0\n",
       "idle_time                0\n",
       "idle_men                 0\n",
       "no_of_style_change       0\n",
       "no_of_workers            0\n",
       "actual_productivity      0\n",
       "dtype: int64"
      ]
     },
     "execution_count": 15,
     "metadata": {},
     "output_type": "execute_result"
    }
   ],
   "source": [
    "# Check missing values again\n",
    "df.isna().sum()"
   ]
  },
  {
   "cell_type": "code",
   "execution_count": 16,
   "id": "c88e803b",
   "metadata": {},
   "outputs": [],
   "source": [
    "# Create Label Encoder\n",
    "label_encoder = LabelEncoder()"
   ]
  },
  {
   "cell_type": "code",
   "execution_count": 17,
   "id": "ec4cd097",
   "metadata": {},
   "outputs": [],
   "source": [
    "# Encode Quarter, Department, and Day into Numerical data\n",
    "quarter_encoded = label_encoder.fit_transform(df[\"quarter\"])\n",
    "department_encoded = label_encoder.fit_transform(df[\"department\"])\n",
    "day_encoded = label_encoder.fit_transform(df[\"day\"])\n",
    "\n",
    "df[\"quarter_int\"] = quarter_encoded\n",
    "df[\"department_int\"] = department_encoded\n",
    "df[\"day_int\"] = day_encoded"
   ]
  },
  {
   "cell_type": "code",
   "execution_count": 18,
   "id": "59b0c17d",
   "metadata": {},
   "outputs": [
    {
     "data": {
      "text/html": [
       "<div>\n",
       "<style scoped>\n",
       "    .dataframe tbody tr th:only-of-type {\n",
       "        vertical-align: middle;\n",
       "    }\n",
       "\n",
       "    .dataframe tbody tr th {\n",
       "        vertical-align: top;\n",
       "    }\n",
       "\n",
       "    .dataframe thead th {\n",
       "        text-align: right;\n",
       "    }\n",
       "</style>\n",
       "<table border=\"1\" class=\"dataframe\">\n",
       "  <thead>\n",
       "    <tr style=\"text-align: right;\">\n",
       "      <th></th>\n",
       "      <th>date</th>\n",
       "      <th>quarter</th>\n",
       "      <th>department</th>\n",
       "      <th>day</th>\n",
       "      <th>team</th>\n",
       "      <th>targeted_productivity</th>\n",
       "      <th>smv</th>\n",
       "      <th>wip</th>\n",
       "      <th>over_time</th>\n",
       "      <th>incentive</th>\n",
       "      <th>idle_time</th>\n",
       "      <th>idle_men</th>\n",
       "      <th>no_of_style_change</th>\n",
       "      <th>no_of_workers</th>\n",
       "      <th>actual_productivity</th>\n",
       "      <th>quarter_int</th>\n",
       "      <th>department_int</th>\n",
       "      <th>day_int</th>\n",
       "    </tr>\n",
       "  </thead>\n",
       "  <tbody>\n",
       "    <tr>\n",
       "      <th>0</th>\n",
       "      <td>1/1/2015</td>\n",
       "      <td>Quarter1</td>\n",
       "      <td>sweing</td>\n",
       "      <td>Thursday</td>\n",
       "      <td>8</td>\n",
       "      <td>0.80</td>\n",
       "      <td>26.16</td>\n",
       "      <td>1108.0</td>\n",
       "      <td>7080</td>\n",
       "      <td>98</td>\n",
       "      <td>0.0</td>\n",
       "      <td>0</td>\n",
       "      <td>0</td>\n",
       "      <td>59.0</td>\n",
       "      <td>0.940725</td>\n",
       "      <td>0</td>\n",
       "      <td>2</td>\n",
       "      <td>3</td>\n",
       "    </tr>\n",
       "    <tr>\n",
       "      <th>1</th>\n",
       "      <td>1/1/2015</td>\n",
       "      <td>Quarter1</td>\n",
       "      <td>finishing</td>\n",
       "      <td>Thursday</td>\n",
       "      <td>1</td>\n",
       "      <td>0.75</td>\n",
       "      <td>3.94</td>\n",
       "      <td>1039.0</td>\n",
       "      <td>960</td>\n",
       "      <td>0</td>\n",
       "      <td>0.0</td>\n",
       "      <td>0</td>\n",
       "      <td>0</td>\n",
       "      <td>8.0</td>\n",
       "      <td>0.886500</td>\n",
       "      <td>0</td>\n",
       "      <td>1</td>\n",
       "      <td>3</td>\n",
       "    </tr>\n",
       "    <tr>\n",
       "      <th>2</th>\n",
       "      <td>1/1/2015</td>\n",
       "      <td>Quarter1</td>\n",
       "      <td>sweing</td>\n",
       "      <td>Thursday</td>\n",
       "      <td>11</td>\n",
       "      <td>0.80</td>\n",
       "      <td>11.41</td>\n",
       "      <td>968.0</td>\n",
       "      <td>3660</td>\n",
       "      <td>50</td>\n",
       "      <td>0.0</td>\n",
       "      <td>0</td>\n",
       "      <td>0</td>\n",
       "      <td>30.5</td>\n",
       "      <td>0.800570</td>\n",
       "      <td>0</td>\n",
       "      <td>2</td>\n",
       "      <td>3</td>\n",
       "    </tr>\n",
       "    <tr>\n",
       "      <th>3</th>\n",
       "      <td>1/1/2015</td>\n",
       "      <td>Quarter1</td>\n",
       "      <td>sweing</td>\n",
       "      <td>Thursday</td>\n",
       "      <td>12</td>\n",
       "      <td>0.80</td>\n",
       "      <td>11.41</td>\n",
       "      <td>968.0</td>\n",
       "      <td>3660</td>\n",
       "      <td>50</td>\n",
       "      <td>0.0</td>\n",
       "      <td>0</td>\n",
       "      <td>0</td>\n",
       "      <td>30.5</td>\n",
       "      <td>0.800570</td>\n",
       "      <td>0</td>\n",
       "      <td>2</td>\n",
       "      <td>3</td>\n",
       "    </tr>\n",
       "    <tr>\n",
       "      <th>4</th>\n",
       "      <td>1/1/2015</td>\n",
       "      <td>Quarter1</td>\n",
       "      <td>sweing</td>\n",
       "      <td>Thursday</td>\n",
       "      <td>6</td>\n",
       "      <td>0.80</td>\n",
       "      <td>25.90</td>\n",
       "      <td>1170.0</td>\n",
       "      <td>1920</td>\n",
       "      <td>50</td>\n",
       "      <td>0.0</td>\n",
       "      <td>0</td>\n",
       "      <td>0</td>\n",
       "      <td>56.0</td>\n",
       "      <td>0.800382</td>\n",
       "      <td>0</td>\n",
       "      <td>2</td>\n",
       "      <td>3</td>\n",
       "    </tr>\n",
       "  </tbody>\n",
       "</table>\n",
       "</div>"
      ],
      "text/plain": [
       "       date   quarter  department       day  team  targeted_productivity  \\\n",
       "0  1/1/2015  Quarter1      sweing  Thursday     8                   0.80   \n",
       "1  1/1/2015  Quarter1  finishing   Thursday     1                   0.75   \n",
       "2  1/1/2015  Quarter1      sweing  Thursday    11                   0.80   \n",
       "3  1/1/2015  Quarter1      sweing  Thursday    12                   0.80   \n",
       "4  1/1/2015  Quarter1      sweing  Thursday     6                   0.80   \n",
       "\n",
       "     smv     wip  over_time  incentive  idle_time  idle_men  \\\n",
       "0  26.16  1108.0       7080         98        0.0         0   \n",
       "1   3.94  1039.0        960          0        0.0         0   \n",
       "2  11.41   968.0       3660         50        0.0         0   \n",
       "3  11.41   968.0       3660         50        0.0         0   \n",
       "4  25.90  1170.0       1920         50        0.0         0   \n",
       "\n",
       "   no_of_style_change  no_of_workers  actual_productivity  quarter_int  \\\n",
       "0                   0           59.0             0.940725            0   \n",
       "1                   0            8.0             0.886500            0   \n",
       "2                   0           30.5             0.800570            0   \n",
       "3                   0           30.5             0.800570            0   \n",
       "4                   0           56.0             0.800382            0   \n",
       "\n",
       "   department_int  day_int  \n",
       "0               2        3  \n",
       "1               1        3  \n",
       "2               2        3  \n",
       "3               2        3  \n",
       "4               2        3  "
      ]
     },
     "execution_count": 18,
     "metadata": {},
     "output_type": "execute_result"
    }
   ],
   "source": [
    "df.head()"
   ]
  },
  {
   "cell_type": "code",
   "execution_count": 19,
   "id": "77ef06a4",
   "metadata": {},
   "outputs": [],
   "source": [
    "# I have encoded Quarter, Department, and Day into Numerical data\n",
    "# Because these three features are important for prediction\n",
    "\n",
    "# However, date doesn't seem to be important bacause there are too many data which have the same date\n",
    "# Even we make a prediction, it's impossible to tell why that's day worker have more productivity than other date\n",
    "# Additionally, we already have Quarter and Day to replaced Date"
   ]
  },
  {
   "cell_type": "code",
   "execution_count": 20,
   "id": "e4a3d90b",
   "metadata": {},
   "outputs": [
    {
     "data": {
      "text/html": [
       "<div>\n",
       "<style scoped>\n",
       "    .dataframe tbody tr th:only-of-type {\n",
       "        vertical-align: middle;\n",
       "    }\n",
       "\n",
       "    .dataframe tbody tr th {\n",
       "        vertical-align: top;\n",
       "    }\n",
       "\n",
       "    .dataframe thead th {\n",
       "        text-align: right;\n",
       "    }\n",
       "</style>\n",
       "<table border=\"1\" class=\"dataframe\">\n",
       "  <thead>\n",
       "    <tr style=\"text-align: right;\">\n",
       "      <th></th>\n",
       "      <th>date</th>\n",
       "      <th>quarter</th>\n",
       "      <th>department</th>\n",
       "      <th>day</th>\n",
       "      <th>quarter_int</th>\n",
       "      <th>department_int</th>\n",
       "      <th>day_int</th>\n",
       "      <th>team</th>\n",
       "      <th>targeted_productivity</th>\n",
       "      <th>smv</th>\n",
       "      <th>wip</th>\n",
       "      <th>over_time</th>\n",
       "      <th>incentive</th>\n",
       "      <th>idle_time</th>\n",
       "      <th>idle_men</th>\n",
       "      <th>no_of_style_change</th>\n",
       "      <th>no_of_workers</th>\n",
       "      <th>actual_productivity</th>\n",
       "    </tr>\n",
       "  </thead>\n",
       "  <tbody>\n",
       "    <tr>\n",
       "      <th>0</th>\n",
       "      <td>1/1/2015</td>\n",
       "      <td>Quarter1</td>\n",
       "      <td>sweing</td>\n",
       "      <td>Thursday</td>\n",
       "      <td>0</td>\n",
       "      <td>2</td>\n",
       "      <td>3</td>\n",
       "      <td>8</td>\n",
       "      <td>0.80</td>\n",
       "      <td>26.16</td>\n",
       "      <td>1108.0</td>\n",
       "      <td>7080</td>\n",
       "      <td>98</td>\n",
       "      <td>0.0</td>\n",
       "      <td>0</td>\n",
       "      <td>0</td>\n",
       "      <td>59.0</td>\n",
       "      <td>0.940725</td>\n",
       "    </tr>\n",
       "    <tr>\n",
       "      <th>1</th>\n",
       "      <td>1/1/2015</td>\n",
       "      <td>Quarter1</td>\n",
       "      <td>finishing</td>\n",
       "      <td>Thursday</td>\n",
       "      <td>0</td>\n",
       "      <td>1</td>\n",
       "      <td>3</td>\n",
       "      <td>1</td>\n",
       "      <td>0.75</td>\n",
       "      <td>3.94</td>\n",
       "      <td>1039.0</td>\n",
       "      <td>960</td>\n",
       "      <td>0</td>\n",
       "      <td>0.0</td>\n",
       "      <td>0</td>\n",
       "      <td>0</td>\n",
       "      <td>8.0</td>\n",
       "      <td>0.886500</td>\n",
       "    </tr>\n",
       "    <tr>\n",
       "      <th>2</th>\n",
       "      <td>1/1/2015</td>\n",
       "      <td>Quarter1</td>\n",
       "      <td>sweing</td>\n",
       "      <td>Thursday</td>\n",
       "      <td>0</td>\n",
       "      <td>2</td>\n",
       "      <td>3</td>\n",
       "      <td>11</td>\n",
       "      <td>0.80</td>\n",
       "      <td>11.41</td>\n",
       "      <td>968.0</td>\n",
       "      <td>3660</td>\n",
       "      <td>50</td>\n",
       "      <td>0.0</td>\n",
       "      <td>0</td>\n",
       "      <td>0</td>\n",
       "      <td>30.5</td>\n",
       "      <td>0.800570</td>\n",
       "    </tr>\n",
       "    <tr>\n",
       "      <th>3</th>\n",
       "      <td>1/1/2015</td>\n",
       "      <td>Quarter1</td>\n",
       "      <td>sweing</td>\n",
       "      <td>Thursday</td>\n",
       "      <td>0</td>\n",
       "      <td>2</td>\n",
       "      <td>3</td>\n",
       "      <td>12</td>\n",
       "      <td>0.80</td>\n",
       "      <td>11.41</td>\n",
       "      <td>968.0</td>\n",
       "      <td>3660</td>\n",
       "      <td>50</td>\n",
       "      <td>0.0</td>\n",
       "      <td>0</td>\n",
       "      <td>0</td>\n",
       "      <td>30.5</td>\n",
       "      <td>0.800570</td>\n",
       "    </tr>\n",
       "    <tr>\n",
       "      <th>4</th>\n",
       "      <td>1/1/2015</td>\n",
       "      <td>Quarter1</td>\n",
       "      <td>sweing</td>\n",
       "      <td>Thursday</td>\n",
       "      <td>0</td>\n",
       "      <td>2</td>\n",
       "      <td>3</td>\n",
       "      <td>6</td>\n",
       "      <td>0.80</td>\n",
       "      <td>25.90</td>\n",
       "      <td>1170.0</td>\n",
       "      <td>1920</td>\n",
       "      <td>50</td>\n",
       "      <td>0.0</td>\n",
       "      <td>0</td>\n",
       "      <td>0</td>\n",
       "      <td>56.0</td>\n",
       "      <td>0.800382</td>\n",
       "    </tr>\n",
       "  </tbody>\n",
       "</table>\n",
       "</div>"
      ],
      "text/plain": [
       "       date   quarter  department       day  quarter_int  department_int  \\\n",
       "0  1/1/2015  Quarter1      sweing  Thursday            0               2   \n",
       "1  1/1/2015  Quarter1  finishing   Thursday            0               1   \n",
       "2  1/1/2015  Quarter1      sweing  Thursday            0               2   \n",
       "3  1/1/2015  Quarter1      sweing  Thursday            0               2   \n",
       "4  1/1/2015  Quarter1      sweing  Thursday            0               2   \n",
       "\n",
       "   day_int  team  targeted_productivity    smv     wip  over_time  incentive  \\\n",
       "0        3     8                   0.80  26.16  1108.0       7080         98   \n",
       "1        3     1                   0.75   3.94  1039.0        960          0   \n",
       "2        3    11                   0.80  11.41   968.0       3660         50   \n",
       "3        3    12                   0.80  11.41   968.0       3660         50   \n",
       "4        3     6                   0.80  25.90  1170.0       1920         50   \n",
       "\n",
       "   idle_time  idle_men  no_of_style_change  no_of_workers  actual_productivity  \n",
       "0        0.0         0                   0           59.0             0.940725  \n",
       "1        0.0         0                   0            8.0             0.886500  \n",
       "2        0.0         0                   0           30.5             0.800570  \n",
       "3        0.0         0                   0           30.5             0.800570  \n",
       "4        0.0         0                   0           56.0             0.800382  "
      ]
     },
     "execution_count": 20,
     "metadata": {},
     "output_type": "execute_result"
    }
   ],
   "source": [
    "# Rearrange quarter_int, department_int, and day_int to be after day\n",
    "# for better data prediction\n",
    "\n",
    "cols = list(df.columns)\n",
    "new_cols = cols[:4] + cols[-3:] + cols[4:15]\n",
    "df = df[new_cols]\n",
    "df.head()"
   ]
  },
  {
   "cell_type": "code",
   "execution_count": 21,
   "id": "179c490b",
   "metadata": {},
   "outputs": [],
   "source": [
    "# Save modified dataset\n",
    "df.to_csv('modified_garments_worker_productivity.csv')"
   ]
  },
  {
   "cell_type": "code",
   "execution_count": 22,
   "id": "52b4930a",
   "metadata": {},
   "outputs": [
    {
     "data": {
      "text/html": [
       "<div>\n",
       "<style scoped>\n",
       "    .dataframe tbody tr th:only-of-type {\n",
       "        vertical-align: middle;\n",
       "    }\n",
       "\n",
       "    .dataframe tbody tr th {\n",
       "        vertical-align: top;\n",
       "    }\n",
       "\n",
       "    .dataframe thead th {\n",
       "        text-align: right;\n",
       "    }\n",
       "</style>\n",
       "<table border=\"1\" class=\"dataframe\">\n",
       "  <thead>\n",
       "    <tr style=\"text-align: right;\">\n",
       "      <th></th>\n",
       "      <th>quarter_int</th>\n",
       "      <th>department_int</th>\n",
       "      <th>day_int</th>\n",
       "      <th>team</th>\n",
       "      <th>targeted_productivity</th>\n",
       "      <th>smv</th>\n",
       "      <th>wip</th>\n",
       "      <th>over_time</th>\n",
       "      <th>incentive</th>\n",
       "      <th>idle_time</th>\n",
       "      <th>idle_men</th>\n",
       "      <th>no_of_style_change</th>\n",
       "      <th>no_of_workers</th>\n",
       "      <th>actual_productivity</th>\n",
       "    </tr>\n",
       "  </thead>\n",
       "  <tbody>\n",
       "    <tr>\n",
       "      <th>0</th>\n",
       "      <td>0</td>\n",
       "      <td>2</td>\n",
       "      <td>3</td>\n",
       "      <td>8</td>\n",
       "      <td>0.80</td>\n",
       "      <td>26.16</td>\n",
       "      <td>1108.0</td>\n",
       "      <td>7080</td>\n",
       "      <td>98</td>\n",
       "      <td>0.0</td>\n",
       "      <td>0</td>\n",
       "      <td>0</td>\n",
       "      <td>59.0</td>\n",
       "      <td>0.940725</td>\n",
       "    </tr>\n",
       "    <tr>\n",
       "      <th>1</th>\n",
       "      <td>0</td>\n",
       "      <td>1</td>\n",
       "      <td>3</td>\n",
       "      <td>1</td>\n",
       "      <td>0.75</td>\n",
       "      <td>3.94</td>\n",
       "      <td>1039.0</td>\n",
       "      <td>960</td>\n",
       "      <td>0</td>\n",
       "      <td>0.0</td>\n",
       "      <td>0</td>\n",
       "      <td>0</td>\n",
       "      <td>8.0</td>\n",
       "      <td>0.886500</td>\n",
       "    </tr>\n",
       "    <tr>\n",
       "      <th>2</th>\n",
       "      <td>0</td>\n",
       "      <td>2</td>\n",
       "      <td>3</td>\n",
       "      <td>11</td>\n",
       "      <td>0.80</td>\n",
       "      <td>11.41</td>\n",
       "      <td>968.0</td>\n",
       "      <td>3660</td>\n",
       "      <td>50</td>\n",
       "      <td>0.0</td>\n",
       "      <td>0</td>\n",
       "      <td>0</td>\n",
       "      <td>30.5</td>\n",
       "      <td>0.800570</td>\n",
       "    </tr>\n",
       "    <tr>\n",
       "      <th>3</th>\n",
       "      <td>0</td>\n",
       "      <td>2</td>\n",
       "      <td>3</td>\n",
       "      <td>12</td>\n",
       "      <td>0.80</td>\n",
       "      <td>11.41</td>\n",
       "      <td>968.0</td>\n",
       "      <td>3660</td>\n",
       "      <td>50</td>\n",
       "      <td>0.0</td>\n",
       "      <td>0</td>\n",
       "      <td>0</td>\n",
       "      <td>30.5</td>\n",
       "      <td>0.800570</td>\n",
       "    </tr>\n",
       "    <tr>\n",
       "      <th>4</th>\n",
       "      <td>0</td>\n",
       "      <td>2</td>\n",
       "      <td>3</td>\n",
       "      <td>6</td>\n",
       "      <td>0.80</td>\n",
       "      <td>25.90</td>\n",
       "      <td>1170.0</td>\n",
       "      <td>1920</td>\n",
       "      <td>50</td>\n",
       "      <td>0.0</td>\n",
       "      <td>0</td>\n",
       "      <td>0</td>\n",
       "      <td>56.0</td>\n",
       "      <td>0.800382</td>\n",
       "    </tr>\n",
       "    <tr>\n",
       "      <th>...</th>\n",
       "      <td>...</td>\n",
       "      <td>...</td>\n",
       "      <td>...</td>\n",
       "      <td>...</td>\n",
       "      <td>...</td>\n",
       "      <td>...</td>\n",
       "      <td>...</td>\n",
       "      <td>...</td>\n",
       "      <td>...</td>\n",
       "      <td>...</td>\n",
       "      <td>...</td>\n",
       "      <td>...</td>\n",
       "      <td>...</td>\n",
       "      <td>...</td>\n",
       "    </tr>\n",
       "    <tr>\n",
       "      <th>1192</th>\n",
       "      <td>1</td>\n",
       "      <td>0</td>\n",
       "      <td>5</td>\n",
       "      <td>10</td>\n",
       "      <td>0.75</td>\n",
       "      <td>2.90</td>\n",
       "      <td>1039.0</td>\n",
       "      <td>960</td>\n",
       "      <td>0</td>\n",
       "      <td>0.0</td>\n",
       "      <td>0</td>\n",
       "      <td>0</td>\n",
       "      <td>8.0</td>\n",
       "      <td>0.628333</td>\n",
       "    </tr>\n",
       "    <tr>\n",
       "      <th>1193</th>\n",
       "      <td>1</td>\n",
       "      <td>0</td>\n",
       "      <td>5</td>\n",
       "      <td>8</td>\n",
       "      <td>0.70</td>\n",
       "      <td>3.90</td>\n",
       "      <td>1039.0</td>\n",
       "      <td>960</td>\n",
       "      <td>0</td>\n",
       "      <td>0.0</td>\n",
       "      <td>0</td>\n",
       "      <td>0</td>\n",
       "      <td>8.0</td>\n",
       "      <td>0.625625</td>\n",
       "    </tr>\n",
       "    <tr>\n",
       "      <th>1194</th>\n",
       "      <td>1</td>\n",
       "      <td>0</td>\n",
       "      <td>5</td>\n",
       "      <td>7</td>\n",
       "      <td>0.65</td>\n",
       "      <td>3.90</td>\n",
       "      <td>1039.0</td>\n",
       "      <td>960</td>\n",
       "      <td>0</td>\n",
       "      <td>0.0</td>\n",
       "      <td>0</td>\n",
       "      <td>0</td>\n",
       "      <td>8.0</td>\n",
       "      <td>0.625625</td>\n",
       "    </tr>\n",
       "    <tr>\n",
       "      <th>1195</th>\n",
       "      <td>1</td>\n",
       "      <td>0</td>\n",
       "      <td>5</td>\n",
       "      <td>9</td>\n",
       "      <td>0.75</td>\n",
       "      <td>2.90</td>\n",
       "      <td>1039.0</td>\n",
       "      <td>1800</td>\n",
       "      <td>0</td>\n",
       "      <td>0.0</td>\n",
       "      <td>0</td>\n",
       "      <td>0</td>\n",
       "      <td>15.0</td>\n",
       "      <td>0.505889</td>\n",
       "    </tr>\n",
       "    <tr>\n",
       "      <th>1196</th>\n",
       "      <td>1</td>\n",
       "      <td>0</td>\n",
       "      <td>5</td>\n",
       "      <td>6</td>\n",
       "      <td>0.70</td>\n",
       "      <td>2.90</td>\n",
       "      <td>1039.0</td>\n",
       "      <td>720</td>\n",
       "      <td>0</td>\n",
       "      <td>0.0</td>\n",
       "      <td>0</td>\n",
       "      <td>0</td>\n",
       "      <td>6.0</td>\n",
       "      <td>0.394722</td>\n",
       "    </tr>\n",
       "  </tbody>\n",
       "</table>\n",
       "<p>1197 rows × 14 columns</p>\n",
       "</div>"
      ],
      "text/plain": [
       "      quarter_int  department_int  day_int  team  targeted_productivity  \\\n",
       "0               0               2        3     8                   0.80   \n",
       "1               0               1        3     1                   0.75   \n",
       "2               0               2        3    11                   0.80   \n",
       "3               0               2        3    12                   0.80   \n",
       "4               0               2        3     6                   0.80   \n",
       "...           ...             ...      ...   ...                    ...   \n",
       "1192            1               0        5    10                   0.75   \n",
       "1193            1               0        5     8                   0.70   \n",
       "1194            1               0        5     7                   0.65   \n",
       "1195            1               0        5     9                   0.75   \n",
       "1196            1               0        5     6                   0.70   \n",
       "\n",
       "        smv     wip  over_time  incentive  idle_time  idle_men  \\\n",
       "0     26.16  1108.0       7080         98        0.0         0   \n",
       "1      3.94  1039.0        960          0        0.0         0   \n",
       "2     11.41   968.0       3660         50        0.0         0   \n",
       "3     11.41   968.0       3660         50        0.0         0   \n",
       "4     25.90  1170.0       1920         50        0.0         0   \n",
       "...     ...     ...        ...        ...        ...       ...   \n",
       "1192   2.90  1039.0        960          0        0.0         0   \n",
       "1193   3.90  1039.0        960          0        0.0         0   \n",
       "1194   3.90  1039.0        960          0        0.0         0   \n",
       "1195   2.90  1039.0       1800          0        0.0         0   \n",
       "1196   2.90  1039.0        720          0        0.0         0   \n",
       "\n",
       "      no_of_style_change  no_of_workers  actual_productivity  \n",
       "0                      0           59.0             0.940725  \n",
       "1                      0            8.0             0.886500  \n",
       "2                      0           30.5             0.800570  \n",
       "3                      0           30.5             0.800570  \n",
       "4                      0           56.0             0.800382  \n",
       "...                  ...            ...                  ...  \n",
       "1192                   0            8.0             0.628333  \n",
       "1193                   0            8.0             0.625625  \n",
       "1194                   0            8.0             0.625625  \n",
       "1195                   0           15.0             0.505889  \n",
       "1196                   0            6.0             0.394722  \n",
       "\n",
       "[1197 rows x 14 columns]"
      ]
     },
     "execution_count": 22,
     "metadata": {},
     "output_type": "execute_result"
    }
   ],
   "source": [
    "# dataset that we will work on\n",
    "df.iloc[:, 4:]"
   ]
  },
  {
   "cell_type": "code",
   "execution_count": 23,
   "id": "496a9d40",
   "metadata": {},
   "outputs": [
    {
     "name": "stdout",
     "output_type": "stream",
     "text": [
      "Train shape:  (837, 13)\n",
      "Test shape:  (360, 13)\n"
     ]
    }
   ],
   "source": [
    "# Splitting dataset into training and testing data\n",
    "\n",
    "X_train, X_test, y_train, y_test = train_test_split(df.iloc[:,4:-1], df.iloc[:,-1], test_size=0.30, random_state=42)\n",
    "\n",
    "print(\"Train shape: \",X_train.shape)\n",
    "print(\"Test shape: \",X_test.shape)"
   ]
  },
  {
   "cell_type": "markdown",
   "id": "c9270c03",
   "metadata": {},
   "source": [
    "### 2.) Based on the training data, create three supervised machine learning (ML) models for predicting actual_productivity."
   ]
  },
  {
   "cell_type": "code",
   "execution_count": 24,
   "id": "f7a400db",
   "metadata": {},
   "outputs": [],
   "source": [
    "# There are many supervised machine learning algorithm.\n",
    "# For the pupose of predicting actual_prodcutivity,\n",
    "# We will use three supervised machine learning model including\n",
    "# Linear Regression, Support Vector Machine Regression (SVR), and Decision Tree"
   ]
  },
  {
   "cell_type": "code",
   "execution_count": 25,
   "id": "ae5a83e9",
   "metadata": {},
   "outputs": [],
   "source": [
    "# Linear Regression, Support Vector Machine Regression (SVR), and Decision Tree\n",
    "linear_regressor = LinearRegression()\n",
    "svm_regressor = SVR()\n",
    "dt_regressor = DecisionTreeRegressor()"
   ]
  },
  {
   "cell_type": "code",
   "execution_count": 26,
   "id": "f36cdbc5",
   "metadata": {},
   "outputs": [
    {
     "data": {
      "text/html": [
       "<style>#sk-container-id-1 {color: black;background-color: white;}#sk-container-id-1 pre{padding: 0;}#sk-container-id-1 div.sk-toggleable {background-color: white;}#sk-container-id-1 label.sk-toggleable__label {cursor: pointer;display: block;width: 100%;margin-bottom: 0;padding: 0.3em;box-sizing: border-box;text-align: center;}#sk-container-id-1 label.sk-toggleable__label-arrow:before {content: \"▸\";float: left;margin-right: 0.25em;color: #696969;}#sk-container-id-1 label.sk-toggleable__label-arrow:hover:before {color: black;}#sk-container-id-1 div.sk-estimator:hover label.sk-toggleable__label-arrow:before {color: black;}#sk-container-id-1 div.sk-toggleable__content {max-height: 0;max-width: 0;overflow: hidden;text-align: left;background-color: #f0f8ff;}#sk-container-id-1 div.sk-toggleable__content pre {margin: 0.2em;color: black;border-radius: 0.25em;background-color: #f0f8ff;}#sk-container-id-1 input.sk-toggleable__control:checked~div.sk-toggleable__content {max-height: 200px;max-width: 100%;overflow: auto;}#sk-container-id-1 input.sk-toggleable__control:checked~label.sk-toggleable__label-arrow:before {content: \"▾\";}#sk-container-id-1 div.sk-estimator input.sk-toggleable__control:checked~label.sk-toggleable__label {background-color: #d4ebff;}#sk-container-id-1 div.sk-label input.sk-toggleable__control:checked~label.sk-toggleable__label {background-color: #d4ebff;}#sk-container-id-1 input.sk-hidden--visually {border: 0;clip: rect(1px 1px 1px 1px);clip: rect(1px, 1px, 1px, 1px);height: 1px;margin: -1px;overflow: hidden;padding: 0;position: absolute;width: 1px;}#sk-container-id-1 div.sk-estimator {font-family: monospace;background-color: #f0f8ff;border: 1px dotted black;border-radius: 0.25em;box-sizing: border-box;margin-bottom: 0.5em;}#sk-container-id-1 div.sk-estimator:hover {background-color: #d4ebff;}#sk-container-id-1 div.sk-parallel-item::after {content: \"\";width: 100%;border-bottom: 1px solid gray;flex-grow: 1;}#sk-container-id-1 div.sk-label:hover label.sk-toggleable__label {background-color: #d4ebff;}#sk-container-id-1 div.sk-serial::before {content: \"\";position: absolute;border-left: 1px solid gray;box-sizing: border-box;top: 0;bottom: 0;left: 50%;z-index: 0;}#sk-container-id-1 div.sk-serial {display: flex;flex-direction: column;align-items: center;background-color: white;padding-right: 0.2em;padding-left: 0.2em;position: relative;}#sk-container-id-1 div.sk-item {position: relative;z-index: 1;}#sk-container-id-1 div.sk-parallel {display: flex;align-items: stretch;justify-content: center;background-color: white;position: relative;}#sk-container-id-1 div.sk-item::before, #sk-container-id-1 div.sk-parallel-item::before {content: \"\";position: absolute;border-left: 1px solid gray;box-sizing: border-box;top: 0;bottom: 0;left: 50%;z-index: -1;}#sk-container-id-1 div.sk-parallel-item {display: flex;flex-direction: column;z-index: 1;position: relative;background-color: white;}#sk-container-id-1 div.sk-parallel-item:first-child::after {align-self: flex-end;width: 50%;}#sk-container-id-1 div.sk-parallel-item:last-child::after {align-self: flex-start;width: 50%;}#sk-container-id-1 div.sk-parallel-item:only-child::after {width: 0;}#sk-container-id-1 div.sk-dashed-wrapped {border: 1px dashed gray;margin: 0 0.4em 0.5em 0.4em;box-sizing: border-box;padding-bottom: 0.4em;background-color: white;}#sk-container-id-1 div.sk-label label {font-family: monospace;font-weight: bold;display: inline-block;line-height: 1.2em;}#sk-container-id-1 div.sk-label-container {text-align: center;}#sk-container-id-1 div.sk-container {/* jupyter's `normalize.less` sets `[hidden] { display: none; }` but bootstrap.min.css set `[hidden] { display: none !important; }` so we also need the `!important` here to be able to override the default hidden behavior on the sphinx rendered scikit-learn.org. See: https://github.com/scikit-learn/scikit-learn/issues/21755 */display: inline-block !important;position: relative;}#sk-container-id-1 div.sk-text-repr-fallback {display: none;}</style><div id=\"sk-container-id-1\" class=\"sk-top-container\"><div class=\"sk-text-repr-fallback\"><pre>LinearRegression()</pre><b>In a Jupyter environment, please rerun this cell to show the HTML representation or trust the notebook. <br />On GitHub, the HTML representation is unable to render, please try loading this page with nbviewer.org.</b></div><div class=\"sk-container\" hidden><div class=\"sk-item\"><div class=\"sk-estimator sk-toggleable\"><input class=\"sk-toggleable__control sk-hidden--visually\" id=\"sk-estimator-id-1\" type=\"checkbox\" checked><label for=\"sk-estimator-id-1\" class=\"sk-toggleable__label sk-toggleable__label-arrow\">LinearRegression</label><div class=\"sk-toggleable__content\"><pre>LinearRegression()</pre></div></div></div></div></div>"
      ],
      "text/plain": [
       "LinearRegression()"
      ]
     },
     "execution_count": 26,
     "metadata": {},
     "output_type": "execute_result"
    }
   ],
   "source": [
    "# Fit data into Linear Regression\n",
    "linear_regressor.fit(X_train, y_train)"
   ]
  },
  {
   "cell_type": "code",
   "execution_count": 27,
   "id": "1036568a",
   "metadata": {},
   "outputs": [
    {
     "data": {
      "text/html": [
       "<style>#sk-container-id-2 {color: black;background-color: white;}#sk-container-id-2 pre{padding: 0;}#sk-container-id-2 div.sk-toggleable {background-color: white;}#sk-container-id-2 label.sk-toggleable__label {cursor: pointer;display: block;width: 100%;margin-bottom: 0;padding: 0.3em;box-sizing: border-box;text-align: center;}#sk-container-id-2 label.sk-toggleable__label-arrow:before {content: \"▸\";float: left;margin-right: 0.25em;color: #696969;}#sk-container-id-2 label.sk-toggleable__label-arrow:hover:before {color: black;}#sk-container-id-2 div.sk-estimator:hover label.sk-toggleable__label-arrow:before {color: black;}#sk-container-id-2 div.sk-toggleable__content {max-height: 0;max-width: 0;overflow: hidden;text-align: left;background-color: #f0f8ff;}#sk-container-id-2 div.sk-toggleable__content pre {margin: 0.2em;color: black;border-radius: 0.25em;background-color: #f0f8ff;}#sk-container-id-2 input.sk-toggleable__control:checked~div.sk-toggleable__content {max-height: 200px;max-width: 100%;overflow: auto;}#sk-container-id-2 input.sk-toggleable__control:checked~label.sk-toggleable__label-arrow:before {content: \"▾\";}#sk-container-id-2 div.sk-estimator input.sk-toggleable__control:checked~label.sk-toggleable__label {background-color: #d4ebff;}#sk-container-id-2 div.sk-label input.sk-toggleable__control:checked~label.sk-toggleable__label {background-color: #d4ebff;}#sk-container-id-2 input.sk-hidden--visually {border: 0;clip: rect(1px 1px 1px 1px);clip: rect(1px, 1px, 1px, 1px);height: 1px;margin: -1px;overflow: hidden;padding: 0;position: absolute;width: 1px;}#sk-container-id-2 div.sk-estimator {font-family: monospace;background-color: #f0f8ff;border: 1px dotted black;border-radius: 0.25em;box-sizing: border-box;margin-bottom: 0.5em;}#sk-container-id-2 div.sk-estimator:hover {background-color: #d4ebff;}#sk-container-id-2 div.sk-parallel-item::after {content: \"\";width: 100%;border-bottom: 1px solid gray;flex-grow: 1;}#sk-container-id-2 div.sk-label:hover label.sk-toggleable__label {background-color: #d4ebff;}#sk-container-id-2 div.sk-serial::before {content: \"\";position: absolute;border-left: 1px solid gray;box-sizing: border-box;top: 0;bottom: 0;left: 50%;z-index: 0;}#sk-container-id-2 div.sk-serial {display: flex;flex-direction: column;align-items: center;background-color: white;padding-right: 0.2em;padding-left: 0.2em;position: relative;}#sk-container-id-2 div.sk-item {position: relative;z-index: 1;}#sk-container-id-2 div.sk-parallel {display: flex;align-items: stretch;justify-content: center;background-color: white;position: relative;}#sk-container-id-2 div.sk-item::before, #sk-container-id-2 div.sk-parallel-item::before {content: \"\";position: absolute;border-left: 1px solid gray;box-sizing: border-box;top: 0;bottom: 0;left: 50%;z-index: -1;}#sk-container-id-2 div.sk-parallel-item {display: flex;flex-direction: column;z-index: 1;position: relative;background-color: white;}#sk-container-id-2 div.sk-parallel-item:first-child::after {align-self: flex-end;width: 50%;}#sk-container-id-2 div.sk-parallel-item:last-child::after {align-self: flex-start;width: 50%;}#sk-container-id-2 div.sk-parallel-item:only-child::after {width: 0;}#sk-container-id-2 div.sk-dashed-wrapped {border: 1px dashed gray;margin: 0 0.4em 0.5em 0.4em;box-sizing: border-box;padding-bottom: 0.4em;background-color: white;}#sk-container-id-2 div.sk-label label {font-family: monospace;font-weight: bold;display: inline-block;line-height: 1.2em;}#sk-container-id-2 div.sk-label-container {text-align: center;}#sk-container-id-2 div.sk-container {/* jupyter's `normalize.less` sets `[hidden] { display: none; }` but bootstrap.min.css set `[hidden] { display: none !important; }` so we also need the `!important` here to be able to override the default hidden behavior on the sphinx rendered scikit-learn.org. See: https://github.com/scikit-learn/scikit-learn/issues/21755 */display: inline-block !important;position: relative;}#sk-container-id-2 div.sk-text-repr-fallback {display: none;}</style><div id=\"sk-container-id-2\" class=\"sk-top-container\"><div class=\"sk-text-repr-fallback\"><pre>SVR()</pre><b>In a Jupyter environment, please rerun this cell to show the HTML representation or trust the notebook. <br />On GitHub, the HTML representation is unable to render, please try loading this page with nbviewer.org.</b></div><div class=\"sk-container\" hidden><div class=\"sk-item\"><div class=\"sk-estimator sk-toggleable\"><input class=\"sk-toggleable__control sk-hidden--visually\" id=\"sk-estimator-id-2\" type=\"checkbox\" checked><label for=\"sk-estimator-id-2\" class=\"sk-toggleable__label sk-toggleable__label-arrow\">SVR</label><div class=\"sk-toggleable__content\"><pre>SVR()</pre></div></div></div></div></div>"
      ],
      "text/plain": [
       "SVR()"
      ]
     },
     "execution_count": 27,
     "metadata": {},
     "output_type": "execute_result"
    }
   ],
   "source": [
    "# Fit data into Support Vector Machine Regression (SVR)\n",
    "svm_regressor.fit(X_train, y_train)"
   ]
  },
  {
   "cell_type": "code",
   "execution_count": 28,
   "id": "d881f25c",
   "metadata": {},
   "outputs": [
    {
     "data": {
      "text/html": [
       "<style>#sk-container-id-3 {color: black;background-color: white;}#sk-container-id-3 pre{padding: 0;}#sk-container-id-3 div.sk-toggleable {background-color: white;}#sk-container-id-3 label.sk-toggleable__label {cursor: pointer;display: block;width: 100%;margin-bottom: 0;padding: 0.3em;box-sizing: border-box;text-align: center;}#sk-container-id-3 label.sk-toggleable__label-arrow:before {content: \"▸\";float: left;margin-right: 0.25em;color: #696969;}#sk-container-id-3 label.sk-toggleable__label-arrow:hover:before {color: black;}#sk-container-id-3 div.sk-estimator:hover label.sk-toggleable__label-arrow:before {color: black;}#sk-container-id-3 div.sk-toggleable__content {max-height: 0;max-width: 0;overflow: hidden;text-align: left;background-color: #f0f8ff;}#sk-container-id-3 div.sk-toggleable__content pre {margin: 0.2em;color: black;border-radius: 0.25em;background-color: #f0f8ff;}#sk-container-id-3 input.sk-toggleable__control:checked~div.sk-toggleable__content {max-height: 200px;max-width: 100%;overflow: auto;}#sk-container-id-3 input.sk-toggleable__control:checked~label.sk-toggleable__label-arrow:before {content: \"▾\";}#sk-container-id-3 div.sk-estimator input.sk-toggleable__control:checked~label.sk-toggleable__label {background-color: #d4ebff;}#sk-container-id-3 div.sk-label input.sk-toggleable__control:checked~label.sk-toggleable__label {background-color: #d4ebff;}#sk-container-id-3 input.sk-hidden--visually {border: 0;clip: rect(1px 1px 1px 1px);clip: rect(1px, 1px, 1px, 1px);height: 1px;margin: -1px;overflow: hidden;padding: 0;position: absolute;width: 1px;}#sk-container-id-3 div.sk-estimator {font-family: monospace;background-color: #f0f8ff;border: 1px dotted black;border-radius: 0.25em;box-sizing: border-box;margin-bottom: 0.5em;}#sk-container-id-3 div.sk-estimator:hover {background-color: #d4ebff;}#sk-container-id-3 div.sk-parallel-item::after {content: \"\";width: 100%;border-bottom: 1px solid gray;flex-grow: 1;}#sk-container-id-3 div.sk-label:hover label.sk-toggleable__label {background-color: #d4ebff;}#sk-container-id-3 div.sk-serial::before {content: \"\";position: absolute;border-left: 1px solid gray;box-sizing: border-box;top: 0;bottom: 0;left: 50%;z-index: 0;}#sk-container-id-3 div.sk-serial {display: flex;flex-direction: column;align-items: center;background-color: white;padding-right: 0.2em;padding-left: 0.2em;position: relative;}#sk-container-id-3 div.sk-item {position: relative;z-index: 1;}#sk-container-id-3 div.sk-parallel {display: flex;align-items: stretch;justify-content: center;background-color: white;position: relative;}#sk-container-id-3 div.sk-item::before, #sk-container-id-3 div.sk-parallel-item::before {content: \"\";position: absolute;border-left: 1px solid gray;box-sizing: border-box;top: 0;bottom: 0;left: 50%;z-index: -1;}#sk-container-id-3 div.sk-parallel-item {display: flex;flex-direction: column;z-index: 1;position: relative;background-color: white;}#sk-container-id-3 div.sk-parallel-item:first-child::after {align-self: flex-end;width: 50%;}#sk-container-id-3 div.sk-parallel-item:last-child::after {align-self: flex-start;width: 50%;}#sk-container-id-3 div.sk-parallel-item:only-child::after {width: 0;}#sk-container-id-3 div.sk-dashed-wrapped {border: 1px dashed gray;margin: 0 0.4em 0.5em 0.4em;box-sizing: border-box;padding-bottom: 0.4em;background-color: white;}#sk-container-id-3 div.sk-label label {font-family: monospace;font-weight: bold;display: inline-block;line-height: 1.2em;}#sk-container-id-3 div.sk-label-container {text-align: center;}#sk-container-id-3 div.sk-container {/* jupyter's `normalize.less` sets `[hidden] { display: none; }` but bootstrap.min.css set `[hidden] { display: none !important; }` so we also need the `!important` here to be able to override the default hidden behavior on the sphinx rendered scikit-learn.org. See: https://github.com/scikit-learn/scikit-learn/issues/21755 */display: inline-block !important;position: relative;}#sk-container-id-3 div.sk-text-repr-fallback {display: none;}</style><div id=\"sk-container-id-3\" class=\"sk-top-container\"><div class=\"sk-text-repr-fallback\"><pre>DecisionTreeRegressor()</pre><b>In a Jupyter environment, please rerun this cell to show the HTML representation or trust the notebook. <br />On GitHub, the HTML representation is unable to render, please try loading this page with nbviewer.org.</b></div><div class=\"sk-container\" hidden><div class=\"sk-item\"><div class=\"sk-estimator sk-toggleable\"><input class=\"sk-toggleable__control sk-hidden--visually\" id=\"sk-estimator-id-3\" type=\"checkbox\" checked><label for=\"sk-estimator-id-3\" class=\"sk-toggleable__label sk-toggleable__label-arrow\">DecisionTreeRegressor</label><div class=\"sk-toggleable__content\"><pre>DecisionTreeRegressor()</pre></div></div></div></div></div>"
      ],
      "text/plain": [
       "DecisionTreeRegressor()"
      ]
     },
     "execution_count": 28,
     "metadata": {},
     "output_type": "execute_result"
    }
   ],
   "source": [
    "# Fit data into Decision Tree\n",
    "dt_regressor.fit(X_train, y_train)"
   ]
  },
  {
   "cell_type": "code",
   "execution_count": 29,
   "id": "3f5b759f",
   "metadata": {},
   "outputs": [],
   "source": [
    "# Predict testing data using Linear Regression\n",
    "lr_y_preds = linear_regressor.predict(X_test)"
   ]
  },
  {
   "cell_type": "code",
   "execution_count": 30,
   "id": "51d76400",
   "metadata": {},
   "outputs": [],
   "source": [
    "# Predict testing data using Support Vector Machine Regression (SVR)\n",
    "svr_y_preds = svm_regressor.predict(X_test)"
   ]
  },
  {
   "cell_type": "code",
   "execution_count": 31,
   "id": "fa088e5d",
   "metadata": {},
   "outputs": [],
   "source": [
    "# Predict testing data using Decision Tree\n",
    "dtr_y_preds = dt_regressor.predict(X_test)"
   ]
  },
  {
   "cell_type": "code",
   "execution_count": 32,
   "id": "9bde6c0c",
   "metadata": {},
   "outputs": [
    {
     "name": "stdout",
     "output_type": "stream",
     "text": [
      "The prediction y using Linear Regression: \n",
      "[0.64378956 0.84367    0.78215368 0.75068087 0.79824162 0.81126386\n",
      " 0.61090586 0.61448606 0.69708413 0.76343871 0.73661316 0.8328558\n",
      " 0.84286175 0.59128286 0.76083095 0.79674056 0.89486044 0.6315609\n",
      " 0.55651621 0.7986514  0.90062832 0.70746502 0.83070361 0.83827663\n",
      " 0.8031781  0.62611013 0.4407119  0.87869807 0.65891623 0.82494098\n",
      " 0.79231213 0.7675283  0.83588292 0.72114375 0.76267553 0.70158838\n",
      " 0.73557272 0.84682934 0.75420929 0.74224762 0.78117844 0.74035066\n",
      " 0.69899199 0.78629915 0.75946342 0.75394316 0.68469609 0.85361469\n",
      " 0.81575966 0.76636887 0.87072333 0.81148324 0.78312302 0.72405844\n",
      " 0.79120086 0.74532268 0.7128221  0.68412978 0.83664378 0.46517936\n",
      " 0.80502563 0.76323279 0.73830292 0.75771892 0.62461718 0.73471285\n",
      " 0.75647855 0.80128528 0.73106208 0.69651637 0.79687245 0.72817871\n",
      " 0.67215883 0.74311151 0.70170379 0.64835997 0.8643354  0.66064043\n",
      " 0.81644487 0.77075462 0.86768792 0.77752252 0.85271825 0.79066006\n",
      " 0.77285759 0.74963146 0.68991177 0.77173917 0.93092774 0.66498268\n",
      " 0.54018666 0.72408926 0.76194073 0.77064592 0.83502576 0.75065638\n",
      " 0.66523233 0.7795919  0.70025768 0.80561524 0.73934755 0.6855294\n",
      " 0.8791021  0.79152534 0.74643284 0.73637899 0.63750975 0.69443004\n",
      " 0.70474008 0.88245588 0.81124046 0.77949206 0.75128138 0.84538853\n",
      " 0.48725521 0.78738162 0.74450886 0.78311568 0.69071398 0.6957415\n",
      " 0.3797705  0.83210138 0.68338557 0.67732121 0.76621635 0.69102969\n",
      " 0.8047734  0.74853422 0.75516999 0.73239599 0.79293905 0.6116382\n",
      " 0.62541173 0.74591108 0.57930625 0.73469553 0.63300453 0.68082603\n",
      " 0.66835403 0.84320333 0.88452784 0.78628205 0.75066327 0.77717479\n",
      " 0.69872252 0.79893865 0.58541658 0.74479286 0.70911433 0.54835292\n",
      " 0.83459201 0.75344966 0.75735877 0.56262203 0.68831768 0.75621542\n",
      " 0.77087794 0.78977311 0.76910058 0.76917724 0.60878261 0.59270447\n",
      " 0.75714573 0.75750569 0.7205181  0.772019   0.75645804 0.68428389\n",
      " 0.69916694 0.77652248 0.67683974 0.66964084 1.01053974 0.64021075\n",
      " 0.75294653 0.74608672 0.76144269 0.69823315 0.82400711 0.83767302\n",
      " 0.74875353 0.79036957 0.79381172 0.6939589  0.7759585  0.81012414\n",
      " 0.65522073 0.78447571 0.70993595 0.68159547 0.7275099  0.65224649\n",
      " 0.66808443 0.80000719 0.74176425 0.84639676 0.57308885 0.85697419\n",
      " 0.7432109  0.62207001 0.73774999 0.70692786 0.44830553 0.84085832\n",
      " 0.74681215 0.76815897 0.79359197 0.66268829 0.75027813 0.69756289\n",
      " 0.69503058 0.81536802 0.8249754  0.75302401 0.75779522 0.76385222\n",
      " 0.72653608 0.82333421 0.70836303 0.87117589 0.75610918 0.78533569\n",
      " 0.76376984 0.78399569 0.73294135 0.77666841 0.78414847 0.8329091\n",
      " 0.78665132 0.85587061 0.48282584 0.76994907 0.78463799 0.76093833\n",
      " 0.66772373 0.75176098 0.69416234 0.66873303 0.69597219 0.7506493\n",
      " 0.60953269 0.84894564 0.73580987 0.73915292 0.72128276 0.69564896\n",
      " 0.74312029 0.66903168 0.83651642 0.72453007 0.67272677 0.71448969\n",
      " 0.76375864 0.78268078 0.58391339 0.8844864  0.76214466 0.65071093\n",
      " 0.76900426 0.74323195 0.5544432  0.75973339 0.76794804 0.59118254\n",
      " 0.67292109 0.58606237 0.75243768 0.72096335 0.6805131  0.6354073\n",
      " 0.83408747 0.80681573 0.71293804 0.68901793 0.78103701 0.79183584\n",
      " 0.78733601 0.7226423  0.73558802 0.80395816 0.77715795 0.69629185\n",
      " 0.76904181 0.84388911 0.74491039 0.78789338 0.77974988 0.66177073\n",
      " 0.73648563 0.6841924  0.81553602 0.64435742 0.61387361 0.72721876\n",
      " 0.49977755 0.63910386 0.78161857 0.63494536 0.74421545 0.67680773\n",
      " 0.72618865 0.82598382 0.71015313 0.84592732 0.60058692 0.72981284\n",
      " 0.77680635 0.84510832 0.5913926  0.7189713  0.84001031 0.6975391\n",
      " 0.74437554 0.67527769 0.80536477 0.71552343 0.69201313 0.73954009\n",
      " 0.53833659 0.47704475 0.76357361 0.67434662 0.80110011 0.75496758\n",
      " 0.636618   0.80715487 0.71717041 0.75210141 0.43978347 0.73075197\n",
      " 0.77933829 0.8046155  0.71103077 0.69949993 0.64203446 0.7383476\n",
      " 0.76502289 0.51879834 0.73069332 0.7273331  0.70426909 0.77056737\n",
      " 0.80591683 0.69954003 0.66486772 0.90480549 0.86007719 0.26863854\n",
      " 0.74653829 0.75690161 0.79651925 0.79625521 0.43616695 0.75302676\n",
      " 0.76564502 0.80480438 0.82218749 0.7562104  0.82449127 0.80532281]\n"
     ]
    }
   ],
   "source": [
    "print(\"The prediction y using Linear Regression: \")\n",
    "print(lr_y_preds)"
   ]
  },
  {
   "cell_type": "code",
   "execution_count": 33,
   "id": "89d12b62",
   "metadata": {},
   "outputs": [
    {
     "name": "stdout",
     "output_type": "stream",
     "text": [
      "The prediction y using Support Vector Regression: \n",
      "[0.67234304 0.72689995 0.77791834 0.77369325 0.77363077 0.69903059\n",
      " 0.74332844 0.74333334 0.75821026 0.74081667 0.69258976 0.71147634\n",
      " 0.73097192 0.7564447  0.75469711 0.77799105 0.76890422 0.7728568\n",
      " 0.7231191  0.73428286 0.78041945 0.71988673 0.77676178 0.75649957\n",
      " 0.76106449 0.73684247 0.7779195  0.78659725 0.75900797 0.77798703\n",
      " 0.74478768 0.73792744 0.77239635 0.77528651 0.76862546 0.74925815\n",
      " 0.77680509 0.74406233 0.74097006 0.7735832  0.75760389 0.76570527\n",
      " 0.77364055 0.73003355 0.73673571 0.73572622 0.77359115 0.77371697\n",
      " 0.66074158 0.77788911 0.69825984 0.76714992 0.77364019 0.74631338\n",
      " 0.77364384 0.76172575 0.74319649 0.73510448 0.77798304 0.76787851\n",
      " 0.77793778 0.77788158 0.74072049 0.76092545 0.71294655 0.77364205\n",
      " 0.74941655 0.70690641 0.5708192  0.67339032 0.78982881 0.73031478\n",
      " 0.71597155 0.65201633 0.73182155 0.77424193 0.70959859 0.74366299\n",
      " 0.77800495 0.78421285 0.68679255 0.70626275 0.78894979 0.77793239\n",
      " 0.76743624 0.65914369 0.76525534 0.77789569 0.7398077  0.73821867\n",
      " 0.76855292 0.72703733 0.76256426 0.77202767 0.71125228 0.71899435\n",
      " 0.66996597 0.74352761 0.69975963 0.77676937 0.69324714 0.74615304\n",
      " 0.78405587 0.77361939 0.72244137 0.67246556 0.73097634 0.77671921\n",
      " 0.73219458 0.71460394 0.76354433 0.77789126 0.77786324 0.76256133\n",
      " 0.57703024 0.70421259 0.75928303 0.7103507  0.76608827 0.74576397\n",
      " 0.66061739 0.77799574 0.77359483 0.67839679 0.74294457 0.75012755\n",
      " 0.7637071  0.76046692 0.73947618 0.73065961 0.77791935 0.74202983\n",
      " 0.74000836 0.7778567  0.71647771 0.77528435 0.72948198 0.77769547\n",
      " 0.8047914  0.81836711 0.66733935 0.70681914 0.77364885 0.66848678\n",
      " 0.74972171 0.79244411 0.72211109 0.77666811 0.59104177 0.70112478\n",
      " 0.76791317 0.77706913 0.75455796 0.63524887 0.77367166 0.72702893\n",
      " 0.74618835 0.74149093 0.75266939 0.73175184 0.70247735 0.73682207\n",
      " 0.7240725  0.67372732 0.69425618 0.66862636 0.73848248 0.74611727\n",
      " 0.74745778 0.73350373 0.77669748 0.70958942 0.70913284 0.65650954\n",
      " 0.7491065  0.72859003 0.77787941 0.74616655 0.75612187 0.7723987\n",
      " 0.71768413 0.77371344 0.77792646 0.74319261 0.77629971 0.77258914\n",
      " 0.74318942 0.77671752 0.76525614 0.77359275 0.6734192  0.77396988\n",
      " 0.70328467 0.71283097 0.77669775 0.75267909 0.70053939 0.77880132\n",
      " 0.79336469 0.73920271 0.77358367 0.7752873  0.65846211 0.7811815\n",
      " 0.74326063 0.77789131 0.76790966 0.76400759 0.72099583 0.73463266\n",
      " 0.74646798 0.778007   0.77682935 0.7412255  0.72169415 0.75980741\n",
      " 0.77357279 0.77798012 0.77528287 0.68435996 0.73722022 0.77538724\n",
      " 0.76690861 0.77364684 0.76726754 0.76781169 0.77662051 0.71692869\n",
      " 0.77791775 0.77238834 0.72521844 0.77789351 0.65877152 0.74149216\n",
      " 0.65369542 0.80109207 0.77360688 0.77369666 0.77666928 0.70692052\n",
      " 0.70456469 0.77033034 0.77358839 0.77680964 0.75314276 0.73650237\n",
      " 0.77358988 0.75525209 0.73032852 0.7778772  0.77360501 0.77366139\n",
      " 0.75207793 0.75451766 0.77366604 0.76588698 0.75070151 0.66423422\n",
      " 0.76362805 0.74325573 0.77356102 0.73796752 0.77662475 0.61504233\n",
      " 0.7735889  0.73449785 0.73362818 0.83057514 0.68065333 0.6834672\n",
      " 0.63639126 0.77793995 0.74209095 0.73733734 0.70341105 0.77362434\n",
      " 0.73824316 0.77798235 0.77682585 0.71959374 0.7939371  0.7179013\n",
      " 0.73749571 0.74755545 0.77359193 0.74005752 0.73170862 0.73714731\n",
      " 0.77528646 0.73017432 0.77799758 0.7069513  0.61118824 0.69525718\n",
      " 0.63275471 0.73366294 0.74114428 0.79853035 0.72659528 0.78513216\n",
      " 0.78070511 0.71369511 0.77528499 0.77671575 0.77368436 0.77667864\n",
      " 0.77557319 0.7737036  0.6155646  0.73753086 0.71081235 0.74319753\n",
      " 0.77364727 0.77795791 0.77235026 0.77529126 0.73746713 0.77358575\n",
      " 0.67819902 0.7383626  0.69849001 0.71772244 0.77685064 0.73827625\n",
      " 0.69511155 0.77235256 0.72114269 0.73448011 0.70587192 0.7978629\n",
      " 0.73751384 0.77369742 0.74859654 0.77065076 0.77789652 0.77359422\n",
      " 0.77788374 0.77678466 0.70623598 0.764169   0.7736009  0.77105128\n",
      " 0.79648709 0.77793124 0.74713196 0.77466193 0.77908864 0.59913148\n",
      " 0.7432205  0.77708378 0.7779237  0.70683845 0.72117078 0.72493607\n",
      " 0.72376857 0.70854757 0.75553932 0.7141661  0.68289443 0.75705394]\n"
     ]
    }
   ],
   "source": [
    "print(\"The prediction y using Support Vector Regression: \")\n",
    "print(svr_y_preds)"
   ]
  },
  {
   "cell_type": "code",
   "execution_count": 34,
   "id": "8d571466",
   "metadata": {},
   "outputs": [
    {
     "name": "stdout",
     "output_type": "stream",
     "text": [
      "The prediction y using Decision Tree Regression: \n",
      "[0.35444444 0.80003139 0.61625    0.5565625  0.68270833 0.61114054\n",
      " 0.91220211 0.91220211 0.65019865 0.75039551 0.70050893 0.92564394\n",
      " 0.80011582 0.98719697 0.90014152 0.99138889 1.00001855 0.50012336\n",
      " 0.60022419 0.90032111 1.00001855 0.70071042 0.87008333 0.87555556\n",
      " 0.75005085 0.36107143 0.75548611 1.00023041 0.28305449 0.84506944\n",
      " 0.95018596 0.80040196 0.96675926 0.97186667 0.70025078 0.48792\n",
      " 0.79675556 0.85043644 0.80040196 0.58604167 0.80030279 0.85050231\n",
      " 0.87       0.90032111 0.75065101 0.80040196 0.5046875  0.91522917\n",
      " 0.80040196 0.8805303  0.80098039 0.85044615 0.54072917 0.8\n",
      " 0.3715625  0.65019865 0.37659722 0.75009835 0.940625   0.33797349\n",
      " 0.59043561 0.93951389 0.52118    0.98098485 0.50080172 0.7018125\n",
      " 0.80031864 0.75005085 0.43326316 0.70060526 0.80064381 0.44872222\n",
      " 0.70048083 0.71220525 0.75054546 0.66068329 0.80023784 0.69996522\n",
      " 0.91995454 0.80080631 0.8000345  1.00141667 0.85061053 0.8375947\n",
      " 0.75051756 0.43326316 0.60027327 0.8865     1.00023041 0.49654971\n",
      " 0.66068329 0.80002056 0.80012872 0.70025078 0.87115    0.75064815\n",
      " 0.70042414 0.80068437 0.75006805 0.80484848 0.80007184 0.8\n",
      " 1.0006713  0.68380682 0.68159804 0.80011582 0.70071042 0.72693333\n",
      " 0.75065101 0.9025     0.80035194 0.90222222 0.64057765 0.9199054\n",
      " 0.70042414 0.80059806 0.85050231 0.80059447 0.70071042 0.52118\n",
      " 0.26097879 0.9025     0.60520833 0.32813158 0.75039551 0.80002056\n",
      " 0.90047076 0.90021572 0.8008     0.79996322 0.73598485 0.70090357\n",
      " 0.47571839 0.51560606 0.50080172 0.90666667 0.28533333 0.85858586\n",
      " 0.65030714 0.75047368 0.75034733 0.99953333 0.81742424 0.80013725\n",
      " 0.70005833 0.80030279 0.38883036 0.97186667 0.41155357 0.31120746\n",
      " 0.68488889 0.64057765 0.8001171  0.80011582 0.664875   0.75051756\n",
      " 0.75051756 0.60194444 0.95018596 0.97462121 0.38883036 0.31120746\n",
      " 0.75065101 0.66237931 0.45201254 0.80013725 0.85013677 0.70043672\n",
      " 0.70054044 0.8008     0.31416667 0.8000345  0.85018182 0.70090357\n",
      " 0.85117411 0.80040196 0.8865     0.65041673 0.85050231 0.96675926\n",
      " 0.8000345  0.87008333 0.68380682 0.78663194 0.90296296 0.62833333\n",
      " 0.63236111 0.82680303 0.87058081 0.60520833 0.70009416 0.60027327\n",
      " 0.69996522 0.85018182 0.97462121 0.85056949 0.70050526 1.00023041\n",
      " 0.70017039 0.28533333 0.58604167 0.86888889 0.26097879 0.85056949\n",
      " 0.3715625  0.85814394 0.90291667 0.28305449 0.80040196 0.75006805\n",
      " 0.7002366  0.940625   0.89955556 0.68159804 0.75051756 0.85043644\n",
      " 0.92754167 0.99138889 0.83866667 0.8000345  0.75009835 0.90126263\n",
      " 0.75065172 0.60416667 0.80002056 0.96043333 0.97186667 0.82718654\n",
      " 0.67007576 1.00001855 0.38883036 0.85814394 0.75039216 0.38579167\n",
      " 0.60002874 0.70017039 0.97186667 0.528125   0.89219444 0.80084242\n",
      " 0.70036207 0.96105903 0.68380682 0.79675556 0.80040196 0.65041673\n",
      " 0.93164583 0.75047368 0.91158974 0.85814394 0.70591667 0.87\n",
      " 0.75006805 0.80040196 0.75817308 0.80001501 0.85013677 0.71220525\n",
      " 0.85013677 0.41083333 0.271875   0.74290124 0.99427083 0.41517241\n",
      " 0.67213542 0.53567797 0.85056949 0.60128    0.75065101 0.602\n",
      " 0.75034733 0.67007576 0.31416667 0.80080864 0.80059806 0.67666667\n",
      " 0.80033333 0.90939167 0.80062987 0.85025253 0.80077902 0.70048083\n",
      " 0.80034644 0.95018596 0.77158333 0.80033333 0.75047368 0.62701118\n",
      " 0.90666667 0.75047368 0.940625   0.32740741 0.36107143 0.71220525\n",
      " 0.50025805 0.70071042 0.90014152 0.28305449 0.80040196 0.8721\n",
      " 0.75028333 0.80024675 0.83866667 0.97186667 0.95890151 0.74044444\n",
      " 0.68380682 0.96201667 0.60017284 0.60027327 0.80003139 0.77333333\n",
      " 0.61020833 0.86065341 0.9520202  0.89155556 0.7002366  0.58604167\n",
      " 0.50025805 0.31416667 0.75039551 0.70090357 0.57831439 0.80040196\n",
      " 0.602      0.9520202  0.64998328 0.80040196 0.35003125 0.70266667\n",
      " 0.80034644 0.881575   0.60027327 0.7002366  0.84545833 0.73464583\n",
      " 0.93951389 0.31416667 0.79996322 0.75028333 0.7018125  0.80030279\n",
      " 0.85036207 0.35645833 0.62657778 1.00001855 0.9008     0.35070642\n",
      " 0.36871875 0.24731602 0.62888258 0.80023784 0.38883036 0.75065101\n",
      " 0.80068437 0.98863636 0.85050231 0.68159804 0.75368348 0.85044615]\n"
     ]
    }
   ],
   "source": [
    "print(\"The prediction y using Decision Tree Regression: \")\n",
    "print(dtr_y_preds)"
   ]
  },
  {
   "cell_type": "markdown",
   "id": "e5821d2e",
   "metadata": {},
   "source": [
    "### 2.) a.) Report performance score using a suitable metric on the test data. Is it possible that the presented result is an underfitted or overfitted one? Justify."
   ]
  },
  {
   "cell_type": "code",
   "execution_count": 35,
   "id": "f40c5ff0",
   "metadata": {},
   "outputs": [],
   "source": [
    "# Suitable metrics for these three algorithms are \n",
    "# Mean Absolute Error, Mean Squared Error, Root Mean Squared Error, R-squared, and Explained Variance\n",
    "\n",
    "def regression_performance(y_data, y_pred):\n",
    "    mae = mean_absolute_error(y_data, y_pred)\n",
    "    mse = mean_squared_error(y_data, y_pred)\n",
    "    rmse = mean_squared_error(y_data, y_pred, squared=False)\n",
    "    r2 = r2_score(y_data, y_pred)\n",
    "    ev = explained_variance_score(y_data, y_pred)\n",
    "    \n",
    "    print(f'MAE: {mae:.2f}')\n",
    "    print(f'MSE: {mse:.2f}')\n",
    "    print(f'RMSE: {rmse:.2f}')\n",
    "    print(f'R2: {r2:.2f}')\n",
    "    print(f'EV: {ev:.2f}')"
   ]
  },
  {
   "cell_type": "code",
   "execution_count": 36,
   "id": "9ad4f797",
   "metadata": {},
   "outputs": [
    {
     "name": "stdout",
     "output_type": "stream",
     "text": [
      "Linear Regression Peformance Metrics:\n",
      "MAE: 0.11\n",
      "MSE: 0.02\n",
      "RMSE: 0.15\n",
      "R2: 0.21\n",
      "EV: 0.21\n"
     ]
    }
   ],
   "source": [
    "# Performance score for Linear Regression\n",
    "print('Linear Regression Peformance Metrics:')\n",
    "regression_performance(y_test, lr_y_preds)"
   ]
  },
  {
   "cell_type": "code",
   "execution_count": 37,
   "id": "f0f467f3",
   "metadata": {},
   "outputs": [
    {
     "name": "stdout",
     "output_type": "stream",
     "text": [
      "Support Vector Regression Performance Metrics:\n",
      "MAE: 0.13\n",
      "MSE: 0.03\n",
      "RMSE: 0.17\n",
      "R2: 0.05\n",
      "EV: 0.05\n"
     ]
    }
   ],
   "source": [
    "# Performance score for Support Vector Regression\n",
    "print('Support Vector Regression Performance Metrics:')\n",
    "regression_performance(y_test, svr_y_preds)"
   ]
  },
  {
   "cell_type": "code",
   "execution_count": 38,
   "id": "e9ee36b0",
   "metadata": {},
   "outputs": [
    {
     "name": "stdout",
     "output_type": "stream",
     "text": [
      "Decision Tree Regression Performance Metrics:\n",
      "MAE: 0.09\n",
      "MSE: 0.02\n",
      "RMSE: 0.15\n",
      "R2: 0.21\n",
      "EV: 0.21\n"
     ]
    }
   ],
   "source": [
    "# Performance score for Decision Tree Regression\n",
    "print('Decision Tree Regression Performance Metrics:')\n",
    "regression_performance(y_test, dtr_y_preds)"
   ]
  },
  {
   "cell_type": "code",
   "execution_count": 39,
   "id": "5ff62b87",
   "metadata": {},
   "outputs": [],
   "source": [
    "# Based on the result above, the performance metrics of these three models\n",
    "# on testing data are pretty low which are below 0.2"
   ]
  },
  {
   "cell_type": "code",
   "execution_count": 40,
   "id": "e3c6b8a0",
   "metadata": {},
   "outputs": [],
   "source": [
    "# To understand whether it is underfitted or overfitted,\n",
    "# we need to do performance metrics on training data as well"
   ]
  },
  {
   "cell_type": "code",
   "execution_count": 41,
   "id": "754e5449",
   "metadata": {},
   "outputs": [],
   "source": [
    "lr_y_train_preds = linear_regressor.predict(X_train)\n",
    "svr_y_train_preds = svm_regressor.predict(X_train)\n",
    "dtr_y_train_preds = dt_regressor.predict(X_train)"
   ]
  },
  {
   "cell_type": "code",
   "execution_count": 42,
   "id": "62cbab93",
   "metadata": {},
   "outputs": [
    {
     "name": "stdout",
     "output_type": "stream",
     "text": [
      "Linear Regression Peformance Metrics on training data:\n",
      "MAE: 0.11\n",
      "MSE: 0.02\n",
      "RMSE: 0.15\n",
      "R2: 0.31\n",
      "EV: 0.31\n"
     ]
    }
   ],
   "source": [
    "# Performance score for Linear Regression on training data\n",
    "print('Linear Regression Peformance Metrics on training data:')\n",
    "regression_performance(y_train, lr_y_train_preds)"
   ]
  },
  {
   "cell_type": "code",
   "execution_count": 43,
   "id": "4c95cd93",
   "metadata": {},
   "outputs": [
    {
     "name": "stdout",
     "output_type": "stream",
     "text": [
      "Support Vector Regression Performance Metrics on training data:\n",
      "MAE: 0.13\n",
      "MSE: 0.03\n",
      "RMSE: 0.17\n",
      "R2: 0.06\n",
      "EV: 0.06\n"
     ]
    }
   ],
   "source": [
    "# Performance score for Support Vector Regression on training data\n",
    "print('Support Vector Regression Performance Metrics on training data:')\n",
    "regression_performance(y_train, svr_y_train_preds)"
   ]
  },
  {
   "cell_type": "code",
   "execution_count": 44,
   "id": "6bdc45ba",
   "metadata": {},
   "outputs": [
    {
     "name": "stdout",
     "output_type": "stream",
     "text": [
      "Decision Tree Regression Performance Metrics on training data:\n",
      "MAE: 0.00\n",
      "MSE: 0.00\n",
      "RMSE: 0.00\n",
      "R2: 1.00\n",
      "EV: 1.00\n"
     ]
    }
   ],
   "source": [
    "# Performance score for Decision Tree Regression on training data\n",
    "print('Decision Tree Regression Performance Metrics on training data:')\n",
    "regression_performance(y_train, dtr_y_train_preds)"
   ]
  },
  {
   "cell_type": "code",
   "execution_count": 45,
   "id": "e7a5a7a8",
   "metadata": {},
   "outputs": [],
   "source": [
    "# Based on the comparison results from both training and testing data using three different machine learning\n",
    "# algorithm and five performance metrics, we have seen that the performance are mostly similar between\n",
    "# the prediction on the training data and on the testing data.\n",
    "# This indicate that these prediction models are not overfitting or underfitting."
   ]
  },
  {
   "cell_type": "markdown",
   "id": "92cb08bd",
   "metadata": {},
   "source": [
    "### 2.) b.) Justify different design decisions for each ML model used to answer this question."
   ]
  },
  {
   "cell_type": "code",
   "execution_count": 46,
   "id": "0fd6b175",
   "metadata": {},
   "outputs": [],
   "source": [
    "# Refer to \"Garment Industry Employee Productivity\" report by CHANPUTHI TITH on section:\n",
    "# \"III.) Supervised Machine Learning Models for Prediction iii.) Design Decisions\""
   ]
  },
  {
   "cell_type": "markdown",
   "id": "a09bd0ed",
   "metadata": {},
   "source": [
    "### 2.) c.) Have you optimised any hyper-parameters for each ML model? What are they? Why have you done that? Explain."
   ]
  },
  {
   "cell_type": "markdown",
   "id": "9d884576",
   "metadata": {},
   "source": [
    "#### Linear Regression with optimised hyper-parameters"
   ]
  },
  {
   "cell_type": "code",
   "execution_count": 47,
   "id": "c1527dce",
   "metadata": {},
   "outputs": [
    {
     "name": "stdout",
     "output_type": "stream",
     "text": [
      "Best Parameters: {'copy_X': True, 'fit_intercept': False, 'n_jobs': -1, 'positive': False}\n",
      "Best Score: 0.223999179713792\n"
     ]
    }
   ],
   "source": [
    "# Find the best parameters and score for linear regression\n",
    "param_grid = {'fit_intercept': [True, False], 'copy_X': [True, False], 'positive': [True, False], 'n_jobs': [-1, 1]}\n",
    "\n",
    "lr_gs = GridSearchCV(linear_regressor, param_grid, cv=10)\n",
    "lr_gs.fit(X_train, y_train)\n",
    "\n",
    "print(\"Best Parameters:\", lr_gs.best_params_)\n",
    "print(\"Best Score:\", lr_gs.best_score_)"
   ]
  },
  {
   "cell_type": "code",
   "execution_count": 48,
   "id": "46766012",
   "metadata": {},
   "outputs": [
    {
     "name": "stdout",
     "output_type": "stream",
     "text": [
      "Linear Regression optimized hyperparameters on testing data:\n",
      "MAE: 0.11\n",
      "MSE: 0.02\n",
      "RMSE: 0.16\n",
      "R2: 0.19\n",
      "EV: 0.19\n"
     ]
    }
   ],
   "source": [
    "# Show Linear Regression optimized hyperparameters on testing data\n",
    "optimised_lr = LinearRegression(fit_intercept=False, copy_X=True, positive=False, n_jobs=-1)\n",
    "\n",
    "optimised_lr.fit(X_train, y_train)\n",
    "optimised_lr_y_pred = optimised_lr.predict(X_test)\n",
    "optimised_lr_y_train_pred = optimised_lr.predict(X_train)\n",
    "\n",
    "print(\"Linear Regression optimized hyperparameters on testing data:\")\n",
    "regression_performance(y_test, optimised_lr_y_pred)"
   ]
  },
  {
   "cell_type": "code",
   "execution_count": 49,
   "id": "d8ea8d6b",
   "metadata": {},
   "outputs": [
    {
     "name": "stdout",
     "output_type": "stream",
     "text": [
      "Linear Regression optimized hyperparameters on training data:\n",
      "MAE: 0.10\n",
      "MSE: 0.02\n",
      "RMSE: 0.15\n",
      "R2: 0.28\n",
      "EV: 0.28\n"
     ]
    }
   ],
   "source": [
    "# Show Linear Regression optimized hyperparameters on training data\n",
    "print(\"Linear Regression optimized hyperparameters on training data:\")\n",
    "regression_performance(y_train, optimised_lr_y_train_pred)"
   ]
  },
  {
   "cell_type": "code",
   "execution_count": 50,
   "id": "26a319a0",
   "metadata": {},
   "outputs": [],
   "source": [
    "# For Linear Regression model, we have applied GridSearchCV to find the best\n",
    "# parameters of fit_intercept, copy_X, positive, n_jobs\n",
    "\n",
    "# As for L1 (Lasso) and L2 (Ridge), we cannot applied it here\n",
    "# because the purpose of this task is to find the optimised hyper-parameters\n",
    "# for Linear Regression model, not to optimised it with regularization"
   ]
  },
  {
   "cell_type": "markdown",
   "id": "b704435e",
   "metadata": {},
   "source": [
    "#### Support Vector (Machine) Regressor with optimised hyper-parameters"
   ]
  },
  {
   "cell_type": "code",
   "execution_count": 51,
   "id": "80179a72",
   "metadata": {},
   "outputs": [
    {
     "name": "stdout",
     "output_type": "stream",
     "text": [
      "Best Parameters: {'kernel': 'poly'}\n",
      "Best Score: 0.03837076541827544\n"
     ]
    }
   ],
   "source": [
    "# Find the best parameters and score for decision tree\n",
    "\n",
    "# param_grid = {'C': [0.1, 1, 10], 'epsilon': [0.01, 0.1, 1], 'kernel': ['linear', 'ploy', 'rbf']}\n",
    "\n",
    "param_grid = {'kernel': ['poly', 'rbf']}\n",
    "\n",
    "svr_gs = GridSearchCV(svm_regressor, param_grid, cv=10)\n",
    "svr_gs.fit(X_train, y_train)\n",
    "\n",
    "print(\"Best Parameters:\", svr_gs.best_params_)\n",
    "print(\"Best Score:\", svr_gs.best_score_)"
   ]
  },
  {
   "cell_type": "code",
   "execution_count": 52,
   "id": "f07bf92a",
   "metadata": {},
   "outputs": [
    {
     "name": "stdout",
     "output_type": "stream",
     "text": [
      "Support Vector (Machine) Regressor optimized hyperparameters on testing data:\n",
      "MAE: 0.12\n",
      "MSE: 0.03\n",
      "RMSE: 0.17\n",
      "R2: 0.08\n",
      "EV: 0.08\n"
     ]
    }
   ],
   "source": [
    "# Show Support Vector (Machine) Regressor optimized hyperparameters on testing data\n",
    "optimised_svr = SVR(kernel='poly')\n",
    "\n",
    "optimised_svr.fit(X_train, y_train)\n",
    "optimised_svr_y_pred = optimised_svr.predict(X_test)\n",
    "optimised_svr_y_train_pred = optimised_svr.predict(X_train)\n",
    "\n",
    "print(\"Support Vector (Machine) Regressor optimized hyperparameters on testing data:\")\n",
    "regression_performance(y_test, optimised_svr_y_pred)"
   ]
  },
  {
   "cell_type": "code",
   "execution_count": 53,
   "id": "9878bac2",
   "metadata": {},
   "outputs": [
    {
     "name": "stdout",
     "output_type": "stream",
     "text": [
      "Support Vector (Machine) Regressor optimized hyperparameters on training data:\n",
      "MAE: 0.13\n",
      "MSE: 0.03\n",
      "RMSE: 0.17\n",
      "R2: 0.08\n",
      "EV: 0.08\n"
     ]
    }
   ],
   "source": [
    "# Show Support Vector (Machine) Regressor optimized hyperparameters on training data\n",
    "print(\"Support Vector (Machine) Regressor optimized hyperparameters on training data:\")\n",
    "regression_performance(y_train, optimised_svr_y_train_pred)"
   ]
  },
  {
   "cell_type": "code",
   "execution_count": 54,
   "id": "cdd568ac",
   "metadata": {},
   "outputs": [],
   "source": [
    "# For Support Vector (Machine) Regressor, we have applied GridSearchCV to find the best\n",
    "# parameters of kernel between poly and rbf\n",
    "\n",
    "# There are also different kernel such as 'linear' and different parameters \n",
    "# such as 'C' and 'epsilon' as well\n",
    "# However, we are unable to run these \"param_grid\" code due to computational speed\n",
    "# because SVM with Linear is time-consuming on this non-linear data\n",
    "# and our dataset is larger and complexity as well"
   ]
  },
  {
   "cell_type": "markdown",
   "id": "b8daaf28",
   "metadata": {},
   "source": [
    "#### Decision Tree Regressor with optimised hyper-parameters"
   ]
  },
  {
   "cell_type": "code",
   "execution_count": 55,
   "id": "cde060c4",
   "metadata": {},
   "outputs": [
    {
     "name": "stdout",
     "output_type": "stream",
     "text": [
      "Best parameters: {'max_depth': 7, 'min_samples_leaf': 3, 'min_samples_split': 8}\n",
      "Best Score: 0.01812398883709076\n"
     ]
    }
   ],
   "source": [
    "# Find the best parameters and score for decision tree\n",
    "param_grid = {\n",
    "    'max_depth': [1, 2, 3, 4, 5, 6, 7, 8, 9, 10],\n",
    "    'min_samples_split': [2, 4, 6, 8],\n",
    "    'min_samples_leaf': [1, 2, 3],\n",
    "}\n",
    "\n",
    "dt_gs = GridSearchCV(dt_regressor, param_grid, cv=10, scoring=\"neg_mean_squared_error\")\n",
    "dt_gs.fit(X_train, y_train)\n",
    "\n",
    "print(\"Best parameters:\", dt_gs.best_params_)\n",
    "print(\"Best Score:\", -dt_gs.best_score_)"
   ]
  },
  {
   "cell_type": "code",
   "execution_count": 56,
   "id": "94371b76",
   "metadata": {},
   "outputs": [
    {
     "name": "stdout",
     "output_type": "stream",
     "text": [
      "Decision Tree Regressor optimized hyperparameters on testing data:\n",
      "MAE: 0.09\n",
      "MSE: 0.02\n",
      "RMSE: 0.15\n",
      "R2: 0.29\n",
      "EV: 0.29\n"
     ]
    }
   ],
   "source": [
    "# Show Decision Tree Regressor optimized hyperparameters on testing data\n",
    "\n",
    "optimised_dtr = DecisionTreeRegressor(max_depth=7, random_state=42, min_samples_leaf=3, min_samples_split=8)\n",
    "\n",
    "optimised_dtr.fit(X_train, y_train)\n",
    "optimised_dtr_y_pred = optimised_dtr.predict(X_test)\n",
    "optimised_dtr_y_train_pred = optimised_dtr.predict(X_train)\n",
    "\n",
    "print(\"Decision Tree Regressor optimized hyperparameters on testing data:\")\n",
    "regression_performance(y_test, optimised_dtr_y_pred)"
   ]
  },
  {
   "cell_type": "code",
   "execution_count": 57,
   "id": "49ad8df7",
   "metadata": {},
   "outputs": [
    {
     "name": "stdout",
     "output_type": "stream",
     "text": [
      "Decision Tree Regressor optimized hyperparameters on training data:\n",
      "MAE: 0.07\n",
      "MSE: 0.01\n",
      "RMSE: 0.10\n",
      "R2: 0.65\n",
      "EV: 0.65\n"
     ]
    }
   ],
   "source": [
    "# Show Decision Tree Regressor optimized hyperparameters on training data\n",
    "print(\"Decision Tree Regressor optimized hyperparameters on training data:\")\n",
    "regression_performance(y_train, optimised_dtr_y_train_pred)"
   ]
  },
  {
   "cell_type": "code",
   "execution_count": 58,
   "id": "1af9b743",
   "metadata": {},
   "outputs": [],
   "source": [
    "# For Decision Tree Regressor, we have applied GridSearchCV to find the best\n",
    "# paramters of max-depth, min_samples_split, min_samples_leaf\n",
    "\n",
    "# There also many other parameters as well such as criterion, max_features, \n",
    "# and max_leaf_nodes. However, to make it simple, we only used three parameters\n",
    "# while max-depth is the important one"
   ]
  },
  {
   "cell_type": "markdown",
   "id": "36f2ef47",
   "metadata": {},
   "source": [
    "### 2.) d.) Finally, make a recommendation based on the reported results and justify it."
   ]
  },
  {
   "cell_type": "code",
   "execution_count": 59,
   "id": "b2b22ce7",
   "metadata": {},
   "outputs": [],
   "source": [
    "# Refer to \"Garment Industry Employee Productivity\" report by CHANPUTHI TITH on section:\n",
    "# \"III.) Supervised Machine Learning Models for Prediction v.) Recommendation\""
   ]
  },
  {
   "cell_type": "markdown",
   "id": "38704647",
   "metadata": {},
   "source": [
    "### 3.) Analyse the importance of the features for predicting actual_productivity using two different approaches. Give statistical reasons of your findings."
   ]
  },
  {
   "cell_type": "markdown",
   "id": "da6a2df1",
   "metadata": {},
   "source": [
    "#### Linear Regression Approach with Coefficient"
   ]
  },
  {
   "cell_type": "code",
   "execution_count": 60,
   "id": "f588dae4",
   "metadata": {},
   "outputs": [
    {
     "name": "stdout",
     "output_type": "stream",
     "text": [
      "Top 3 Feature Importance with Linear Regression Approach:\n",
      "\n",
      "targeted_productivity: 1.0146\n",
      "no_of_style_change: 0.0355\n",
      "department_int: 0.0303\n"
     ]
    }
   ],
   "source": [
    "# Show Top 3 Feature importance with Linear Regression Approach\n",
    "abs_coef = abs(optimised_lr.coef_)\n",
    "sorted_coef_idx = abs_coef.argsort()[::-1]\n",
    "feature_importance = list(zip(X_train.columns[sorted_coef_idx][:3], abs_coef[sorted_coef_idx]))\n",
    "\n",
    "print(\"Top 3 Feature Importance with Linear Regression Approach:\")\n",
    "print()\n",
    "for feature, score in feature_importance:\n",
    "    print(f\"{feature}: {score:.4f}\")"
   ]
  },
  {
   "cell_type": "code",
   "execution_count": 61,
   "id": "9cf98e99",
   "metadata": {},
   "outputs": [
    {
     "data": {
      "text/plain": [
       "Text(0.5, 1.0, 'Linear Regression Feature Coefficients After Optimization')"
      ]
     },
     "execution_count": 61,
     "metadata": {},
     "output_type": "execute_result"
    },
    {
     "data": {
      "image/png": "[encoded data removed]",
      "text/plain": [
       "<Figure size 1200x500 with 2 Axes>"
      ]
     },
     "metadata": {},
     "output_type": "display_data"
    }
   ],
   "source": [
    "# Visualize Feature importance with Linear Regression Approach\n",
    "fig, axs = plt.subplots(ncols=2, figsize=(12, 5))\n",
    "\n",
    "axs[0].bar(X_train.columns, linear_regressor.coef_)\n",
    "axs[0].set_xticklabels(X_train.columns, rotation=90)\n",
    "axs[0].set_xlabel(\"Features\")\n",
    "axs[0].set_ylabel(\"Importance Score\")\n",
    "axs[0].set_title(\"Linear Regression Feature Coefficients Before Optimization\")\n",
    "\n",
    "\n",
    "axs[1].bar(X_train.columns, optimised_lr.coef_)\n",
    "axs[1].set_xticklabels(X_train.columns, rotation=90)\n",
    "axs[1].set_xlabel(\"Features\")\n",
    "axs[1].set_ylabel(\"Importance Score\")\n",
    "axs[1].set_title(\"Linear Regression Feature Coefficients After Optimization\")"
   ]
  },
  {
   "cell_type": "markdown",
   "id": "2b238d91",
   "metadata": {},
   "source": [
    "#### Decision Tree Regressor Approach with Feature Importances"
   ]
  },
  {
   "cell_type": "code",
   "execution_count": 62,
   "id": "8079e66a",
   "metadata": {},
   "outputs": [
    {
     "name": "stdout",
     "output_type": "stream",
     "text": [
      "DecisionTreeRegressor(max_depth=7, min_samples_leaf=3, min_samples_split=8)\n"
     ]
    }
   ],
   "source": [
    "best_dt_regressor = dt_gs.best_estimator_\n",
    "print(best_dt_regressor)"
   ]
  },
  {
   "cell_type": "code",
   "execution_count": 63,
   "id": "565a7c74",
   "metadata": {},
   "outputs": [
    {
     "name": "stdout",
     "output_type": "stream",
     "text": [
      "Top 3 Feature importance with Decision Tree Regressor Approach:\n",
      "\n",
      "targeted_productivity    0.330527\n",
      "incentive                0.190600\n",
      "smv                      0.107340\n",
      "dtype: float64\n"
     ]
    }
   ],
   "source": [
    "# Show Top 3 Feature importance with Decision Tree Regressor Approach\n",
    "dt_importances = best_dt_regressor.feature_importances_\n",
    "dt_importants = pd.Series(dt_importances, index=list(X_train.columns))\n",
    "\n",
    "print(\"Top 3 Feature importance with Decision Tree Regressor Approach:\")\n",
    "print()\n",
    "print(dt_importants.nlargest(3))"
   ]
  },
  {
   "cell_type": "code",
   "execution_count": 64,
   "id": "3ab358af",
   "metadata": {},
   "outputs": [
    {
     "data": {
      "text/plain": [
       "Text(0.5, 1.0, 'DT Regressor Feature Importances After Optimization')"
      ]
     },
     "execution_count": 64,
     "metadata": {},
     "output_type": "execute_result"
    },
    {
     "data": {
      "image/png": "[encoded data removed]",
      "text/plain": [
       "<Figure size 1200x500 with 2 Axes>"
      ]
     },
     "metadata": {},
     "output_type": "display_data"
    }
   ],
   "source": [
    "# Visualize Feature importance with Decision Tree Regressor Approach\n",
    "fig, axs = plt.subplots(ncols=2, figsize=(12, 5))\n",
    "\n",
    "axs[0].bar(X_train.columns, dt_regressor.feature_importances_)\n",
    "axs[0].set_xticklabels(X_train.columns, rotation=90)\n",
    "axs[0].set_xlabel(\"Features\")\n",
    "axs[0].set_ylabel(\"Importance Score\")\n",
    "axs[0].set_title(\"DT Regressor Feature Importances Before Optimization\")\n",
    "\n",
    "\n",
    "axs[1].bar(X_train.columns, optimised_dtr.feature_importances_)\n",
    "axs[1].set_xticklabels(X_train.columns, rotation=90)\n",
    "axs[1].set_xlabel(\"Features\")\n",
    "axs[1].set_ylabel(\"Importance Score\")\n",
    "axs[1].set_title(\"DT Regressor Feature Importances After Optimization\")"
   ]
  },
  {
   "cell_type": "code",
   "execution_count": 65,
   "id": "ed6216b4",
   "metadata": {},
   "outputs": [],
   "source": [
    "# Based on the visualization above from two different approach, we have seen that the most (or top 3) important\n",
    "# features for \"Actual Productivity of Garment Industry's employee\" are targeted productivity, \n",
    "# no_of_style_change, and department by using Linear Regression approach with coefficient.\n",
    "# With Decession Tree Regressor approach, feature importants are targeted productivity, incentive and smv.\n",
    "# Targeted productivty remain the most important feature for both approaches."
   ]
  }
 ],
 "metadata": {
  "kernelspec": {
   "display_name": "Python 3 (ipykernel)",
   "language": "python",
   "name": "python3"
  },
  "language_info": {
   "codemirror_mode": {
    "name": "ipython",
    "version": 3
   },
   "file_extension": ".py",
   "mimetype": "text/x-python",
   "name": "python",
   "nbconvert_exporter": "python",
   "pygments_lexer": "ipython3",
   "version": "3.9.12"
  }
 },
 "nbformat": 4,
 "nbformat_minor": 5
}
